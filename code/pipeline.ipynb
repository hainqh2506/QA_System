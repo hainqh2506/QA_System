{
 "cells": [
  {
   "cell_type": "code",
   "execution_count": 1,
   "metadata": {},
   "outputs": [
    {
     "name": "stderr",
     "output_type": "stream",
     "text": [
      "c:\\Users\\PC\\anaconda3\\envs\\rag\\Lib\\site-packages\\tqdm\\auto.py:21: TqdmWarning: IProgress not found. Please update jupyter and ipywidgets. See https://ipywidgets.readthedocs.io/en/stable/user_install.html\n",
      "  from .autonotebook import tqdm as notebook_tqdm\n",
      "c:\\Users\\PC\\anaconda3\\envs\\rag\\Lib\\site-packages\\transformers\\tokenization_utils_base.py:1617: FutureWarning: `clean_up_tokenization_spaces` was not set. It will be set to `True` by default. This behavior will be deprecated in transformers v4.45, and will be then set to `False` by default. For more details check this issue: https://github.com/huggingface/transformers/issues/31884\n",
      "  warnings.warn(\n"
     ]
    }
   ],
   "source": [
    "from milvus_db import MilvusDB, MilvusQADB# step4_vector_store\n",
    "from utils import convert_df_to_documents\n",
    "from model_config import VietnameseEmbeddings\n",
    "import os\n",
    "import pandas as pd\n",
    "def load_final_df():\n",
    "    final_df_path = r\"D:\\DATN\\QA_System\\data_analyze\\finaldf0.pkl\"\n",
    "    if os.path.exists(final_df_path):\n",
    "        final_df = pd.read_pickle(final_df_path)\n",
    "        print(f\"Đã load final_df từ file: {final_df_path}\")\n",
    "        return final_df\n",
    "    else:\n",
    "        print(\"File final_df chưa tồn tại.\")\n",
    "        return None\n",
    "def step4_vector_store():\n",
    "    \"\"\"\n",
    "    Store document vectors\n",
    "    \"\"\"\n",
    "    final_df = load_final_df()\n",
    "    documents = convert_df_to_documents(final_df)\n",
    "    corpus=[doc.page_content for doc in documents]\n",
    "    # Tạo Milvus database\n",
    "    milvus_db = MilvusDB(collection_name=\"noraptor\", corpus=corpus)\n",
    "    milvus_db.create_collection()\n",
    "    milvus_db.insert_documents(documents)\n",
    "# Tối ưu 1: Sử dụng singleton pattern để cache DataFrame và corpus\n",
    "class DataManager:\n",
    "    _instance = None\n",
    "    _final_df = None\n",
    "    _corpus = None\n",
    "    \n",
    "    @classmethod\n",
    "    def get_instance(cls):\n",
    "        if cls._instance is None:\n",
    "            cls._instance = cls()\n",
    "        return cls._instance\n",
    "    \n",
    "    def get_final_df(self):\n",
    "        if self._final_df is None:\n",
    "            print(\"Loading final_df from file...\")\n",
    "            self._final_df = load_final_df()\n",
    "        return self._final_df\n",
    "    \n",
    "    def get_corpus(self):\n",
    "        if self._corpus is None:\n",
    "            documents = convert_df_to_documents(self.get_final_df())\n",
    "            self._corpus = [doc.page_content for doc in documents]\n",
    "        return self._corpus\n",
    "\n",
    "# Tối ưu 2: Singleton pattern cho MilvusDB để tránh khởi tạo lại\n",
    "class MilvusManager:\n",
    "    _instance = None\n",
    "    _milvus_db = None\n",
    "    _milvus_qa_db = None\n",
    "    @classmethod\n",
    "    def get_instance(cls):\n",
    "        if cls._instance is None:\n",
    "            cls._instance = cls()\n",
    "        return cls._instance\n",
    "    \n",
    "    def get_milvus_db(self, collection_name):\n",
    "        if self._milvus_db is None:\n",
    "            data_manager = DataManager.get_instance()\n",
    "            corpus = data_manager.get_corpus()\n",
    "            self._milvus_db = MilvusDB(collection_name=collection_name, corpus=corpus)\n",
    "            self._milvus_db.load_collection()\n",
    "        return self._milvus_db\n",
    "    def get_milvus_qa_db(self, qa_collection_name):\n",
    "            # Khởi tạo QA collection\n",
    "        if self._milvus_qa_db is None:\n",
    "            self._milvus_qa_db = MilvusQADB(collection_name=qa_collection_name)\n",
    "            self._milvus_qa_db.load_qa_collection()\n",
    "        return self._milvus_qa_db\n",
    "\n",
    "# Tối ưu 3: Cập nhật hàm step5_retrieval\n",
    "def step5_retrieval(collection_name: str):\n",
    "    data_manager = DataManager.get_instance()\n",
    "    milvus_manager = MilvusManager.get_instance()\n",
    "    corpus = data_manager.get_corpus()\n",
    "    milvus_db = milvus_manager.get_milvus_db(collection_name)\n",
    "    return corpus, milvus_db \n",
    "def step6_qa_db(collection_name: str):\n",
    "    milvus_manager = MilvusManager.get_instance()\n",
    "    milvus_qa_db = milvus_manager.get_milvus_qa_db(collection_name)\n",
    "    return milvus_qa_db\n",
    "    "
   ]
  },
  {
   "cell_type": "code",
   "execution_count": 2,
   "metadata": {},
   "outputs": [],
   "source": [
    "from pymilvus import (\n",
    "    Collection,\n",
    "    CollectionSchema,\n",
    "    DataType,\n",
    "    FieldSchema,\n",
    "    connections,\n",
    "    utility,\n",
    "    MilvusException,\n",
    ")\n",
    "from typing import List, Dict"
   ]
  },
  {
   "cell_type": "code",
   "execution_count": 3,
   "metadata": {},
   "outputs": [
    {
     "name": "stdout",
     "output_type": "stream",
     "text": [
      "[INFO] Connected to Milvus.\n",
      "list_collections:  ['base_qa', 'raptor', 'hybrid_demo']\n",
      "Đã load final_df từ file: D:\\DATN\\QA_System\\data_analyze\\finaldf0.pkl\n",
      "Processed 981 out of 981 documents.\n",
      "Initializing Vietnamese embedding model: keepitreal/vietnamese-sbert\n"
     ]
    },
    {
     "name": "stderr",
     "output_type": "stream",
     "text": [
      "c:\\Users\\PC\\anaconda3\\envs\\rag\\Lib\\site-packages\\transformers\\tokenization_utils_base.py:1617: FutureWarning: `clean_up_tokenization_spaces` was not set. It will be set to `True` by default. This behavior will be deprecated in transformers v4.45, and will be then set to `False` by default. For more details check this issue: https://github.com/huggingface/transformers/issues/31884\n",
      "  warnings.warn(\n"
     ]
    },
    {
     "name": "stdout",
     "output_type": "stream",
     "text": [
      "[INFO] Collection 'hybrid_demo' exists. Total entities: 27\n",
      "[INFO] Collection 'base_qa' exists. Total entities: 2\n",
      "[INFO] Collection 'raptor' exists. Total entities: 1198\n"
     ]
    }
   ],
   "source": [
    "# Kết nối Milvus\n",
    "def connect_to_milvus(uri=\"http://localhost:19530\"):\n",
    "    try:\n",
    "        connections.connect(uri=uri)\n",
    "        print(\"[INFO] Connected to Milvus.\")\n",
    "        print(\"list_collections: \", utility.list_collections())\n",
    "    except MilvusException as e:\n",
    "        print(f\"[ERROR] Error connecting to Milvus: {e}\")\n",
    "        raise e\n",
    "\n",
    "# Hàm kiểm tra trạng thái collection\n",
    "def check_collection_status(col_name: str):\n",
    "    try:\n",
    "        if utility.has_collection(col_name):\n",
    "            collection = Collection(name=col_name)\n",
    "            print(f\"[INFO] Collection '{col_name}' exists. Total entities: {collection.num_entities}\")\n",
    "        else:\n",
    "            print(f\"[INFO] Collection '{col_name}' does not exist.\")\n",
    "    except MilvusException as e:\n",
    "        print(f\"[ERROR] Error checking collection '{col_name}': {e}\")\n",
    "        raise e\n",
    "# Main logic\n",
    "if __name__ == \"__main__\":\n",
    "    connect_to_milvus()\n",
    "    step4_vector_store()\n",
    "    # Tên collection\n",
    "    col_name = \"hybrid_demo\"\n",
    "\n",
    "    # Kiểm tra trạng thái collection\n",
    "    check_collection_status(col_name)\n",
    "    check_collection_status(col_name=\"base_qa\")\n",
    "    check_collection_status(col_name=\"raptor\")\n",
    "    "
   ]
  },
  {
   "cell_type": "code",
   "execution_count": 4,
   "metadata": {},
   "outputs": [
    {
     "data": {
      "text/plain": [
       "['base_qa', 'noraptor', 'hybrid_demo', 'raptor']"
      ]
     },
     "execution_count": 4,
     "metadata": {},
     "output_type": "execute_result"
    }
   ],
   "source": [
    "utility.list_collections()"
   ]
  },
  {
   "cell_type": "code",
   "execution_count": 5,
   "metadata": {},
   "outputs": [
    {
     "name": "stdout",
     "output_type": "stream",
     "text": [
      "[INFO] Collection 'noraptor' exists. Total entities: 981\n"
     ]
    }
   ],
   "source": [
    "check_collection_status(col_name=\"noraptor\")"
   ]
  }
 ],
 "metadata": {
  "kernelspec": {
   "display_name": "rag",
   "language": "python",
   "name": "python3"
  },
  "language_info": {
   "codemirror_mode": {
    "name": "ipython",
    "version": 3
   },
   "file_extension": ".py",
   "mimetype": "text/x-python",
   "name": "python",
   "nbconvert_exporter": "python",
   "pygments_lexer": "ipython3",
   "version": "3.12.5"
  }
 },
 "nbformat": 4,
 "nbformat_minor": 2
}
