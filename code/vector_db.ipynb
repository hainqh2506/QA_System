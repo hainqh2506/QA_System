{
 "cells": [
  {
   "cell_type": "code",
   "execution_count": 118,
   "metadata": {},
   "outputs": [],
   "source": [
    "# vector_db.py\n",
    "import os\n",
    "import ast\n",
    "import numpy as np\n",
    "import pandas as pd\n",
    "from dotenv import load_dotenv\n",
    "from pymilvus import MilvusClient, FieldSchema, CollectionSchema, DataType\n",
    "from model_config import load_embedding_model_VN\n",
    "\n",
    "load_dotenv()\n",
    "MILVUS_ENDPOINT = os.getenv(\"MILVUS_ENDPOINT\")\n",
    "MILVUS_TOKEN = os.getenv(\"MILVUS_TOKEN\")\n",
    "from model_config import load_gpt4o_mini_model\n",
    "\n",
    "llm = load_gpt4o_mini_model()"
   ]
  },
  {
   "cell_type": "code",
   "execution_count": 29,
   "metadata": {},
   "outputs": [],
   "source": [
    "\n",
    "class MilvusRetrieval:\n",
    "    def __init__(self, collection_name: str, embedding_model=None):\n",
    "        \"\"\"\n",
    "        Manages vector retrieval from Milvus.\n",
    "\n",
    "        :param collection_name: Name of the Milvus collection.\n",
    "        :param embedding_function: Function to convert text queries to embedding vectors.\n",
    "        \"\"\"\n",
    "        self.collection_name = collection_name\n",
    "        self.client = MilvusClient(uri=MILVUS_ENDPOINT, token=MILVUS_TOKEN)\n",
    "        self.embedding_model = embedding_model or load_embedding_model_VN()\n",
    "\n",
    "    def similarity_search(self, query: str, top_k: int = 25):\n",
    "        \"\"\"\n",
    "        Perform a similarity search in Milvus with a query.\n",
    "        \"\"\"\n",
    "        query_vector = self.embedding_model.encode(query)\n",
    "        search_params = {\"metric_type\": \"COSINE\", \"params\": {\"nprobe\": 10}}\n",
    "        \n",
    "        # Perform search in Milvus\n",
    "        results = self.client.search(\n",
    "            collection_name=self.collection_name,\n",
    "            data=[query_vector],\n",
    "            anns_field=\"embedding\",\n",
    "            search_params=search_params,\n",
    "            limit=top_k,\n",
    "            output_fields=[\"metadata\", \"text\"]\n",
    "        )\n",
    "        return results"
   ]
  },
  {
   "cell_type": "code",
   "execution_count": 30,
   "metadata": {},
   "outputs": [
    {
     "name": "stderr",
     "output_type": "stream",
     "text": [
      "c:\\Users\\PC\\anaconda3\\envs\\rag\\Lib\\site-packages\\transformers\\tokenization_utils_base.py:1617: FutureWarning: `clean_up_tokenization_spaces` was not set. It will be set to `True` by default. This behavior will be deprecated in transformers v4.45, and will be then set to `False` by default. For more details check this issue: https://github.com/huggingface/transformers/issues/31884\n",
      "  warnings.warn(\n"
     ]
    }
   ],
   "source": [
    "retrieval = MilvusRetrieval(\"test\")\n"
   ]
  },
  {
   "cell_type": "code",
   "execution_count": 121,
   "metadata": {},
   "outputs": [],
   "source": [
    "query = \"các loại học bổng của đại học Bách Khoa Hà Nội\""
   ]
  },
  {
   "cell_type": "code",
   "execution_count": 43,
   "metadata": {},
   "outputs": [],
   "source": [
    "results = retrieval.similarity_search(query=query, top_k=5)"
   ]
  },
  {
   "cell_type": "code",
   "execution_count": 44,
   "metadata": {},
   "outputs": [
    {
     "name": "stdout",
     "output_type": "stream",
     "text": [
      "[{'id': 453466849343023300, 'distance': 0.6481146216392517, 'entity': {'metadata': {'source': '20230710 1. QĐ Học bổng KKHT 2023.pdf', 'page': 0, 'id': '3'}, 'text': 'Hà Nội . 2. Quy định này áp dụng đối với sinh viên đại học hình thức đào tạo chính quy văn bằng thứ nhất của ĐHBK Hà Nội . Điều 2. Các quy định chung 1. Học bổng khuyến khích học tập (KKHT) cấp cho các sinh viên được lựa chọn bởi Hội đồng xét cấp học bổng'}}, {'id': 453466849343023298, 'distance': 0.6385599970817566, 'entity': {'metadata': {'source': '20230710 1. QĐ Học bổng KKHT 2023.pdf', 'page': 0, 'id': '1'}, 'text': 'và cấp học bổng cho sinh viên đại học hình thức đào tạo chính quy tại Đại học Bách khoa Hà Nội (sau đây viết tắt là ĐHBK Hà Nội), căn cứ các quy định liên quan tại Nghị định số 84/2020/NĐ -CP ngày 17 /7/2020 của Chính phủ và Quy chế Quản lý tài chính của'}}, {'id': 453466849343023303, 'distance': 0.6189201474189758, 'entity': {'metadata': {'source': '20230710 1. QĐ Học bổng KKHT 2023.pdf', 'page': 0, 'id': '6'}, 'text': 'học phí của học kỳ lấy điểm xét cấp học bổng . 4. Học bổng KKHT có 3 mức: a) Học bổng loại khá (loại C): Bằng tổng học phí của tất cả các học phần tính điểm trung bình học kỳ (GPA) . b)Học bổng loại giỏi (loại B): Bằng 1,2 lần mức học bổng loại khá .'}}, {'id': 453466849343023323, 'distance': 0.564908504486084, 'entity': {'metadata': {'id': [], 'page': [], 'source': []}, 'text': 'Tài liệu cung cấp quy định chi tiết về học bổng khuyến khích học tập (KKHT) tại Đại học Bách khoa Hà Nội cho năm 2023. Dưới đây là tóm tắt các nội dung chính:\\n\\n### 1. Phạm vi và đối tượng áp dụng\\n- Quy định này áp dụng cho sinh viên đại học hệ chính quy tại ĐHBK Hà Nội, dựa trên các quy định của Chính phủ và quy chế tài chính của trường.\\n\\n### 2. Các quy định chung\\n- Học bổng KKHT được cấp dựa trên thành tích học tập và rèn luyện của sinh viên trong học kỳ trước.\\n- Mục tiêu là khuyến khích sinh viên nâng cao thành tích học tập.\\n- Quỹ học bổng được hình thành từ 8% học phí của học kỳ xét cấp học bổng.\\n- Có các điều kiện cụ thể để được cấp học bổng, bao gồm thời gian học tập chuẩn và một số tiêu chí liên quan đến chương trình đào tạo.\\n\\n### 3. Công bố kết quả xét duyệt và cấp học bổng\\n- Kết quả xét duyệt và danh sách sinh viên được cấp học bổng sẽ được công bố trên cổng thông tin sinh viên vào tuần học thứ 10 của học kỳ.\\n- Học bổng sẽ được chuyển khoản cho sinh viên.\\n\\n### 4. Hội đồng xét cấp học bổng\\n- Hội đồng xét cấp học bổng được thành lập theo quyết định của Giám đốc ĐHBK Hà Nội, có nhiệm vụ xét duyệt và cấp học bổng.\\n\\n### 5. Mức học bổng KKHT\\n- Có ba mức học bổng dựa trên điểm GPA và điểm rèn luyện:\\n  - **Loại C (Khá)**: GPA ≥ 2,5 và điểm rèn luyện ≥ 65 điểm.\\n  - **Loại B (Giỏi)**: GPA ≥ 3,2 và điểm rèn luyện ≥ 80 điểm.\\n  - **Loại A (Xuất sắc)**: GPA ≥ 3,6 và điểm rèn luyện ≥ 90 điểm.\\n\\n### 6. Tiêu chuẩn xét cấp học bổng\\n- Học bổng được xét dựa trên GPA và điểm rèn luyện học kỳ.\\n- Nếu nhiều sinh viên có GPA bằng nhau, ưu tiên dành cho sinh viên có điểm rèn luyện cao hơn.\\n\\n### 7. Đối tượng không đủ điều kiện\\n'}}, {'id': 453466849343023319, 'distance': 0.5509482622146606, 'entity': {'metadata': {'id': ['0', '1', '2', '3', '4', '5', '13', '14', '15'], 'page': [0, 1], 'source': ['20230710 1. QĐ Học bổng KKHT 2023.pdf']}, 'text': '**Tóm tắt quy định về học bổng khuyến khích học tập tại Đại học Bách khoa Hà Nội năm 2023:**\\n\\n**1. Phạm vi và đối tượng áp dụng:**\\n- Quy định này điều chỉnh việc xét duyệt và cấp học bổng khuyến khích học tập (KKHT) cho sinh viên đại học hệ chính quy tại Đại học Bách khoa Hà Nội (ĐHBK Hà Nội), dựa trên các quy định của Chính phủ và quy chế tài chính của trường.\\n- Đối tượng áp dụng là sinh viên đại học hệ chính quy văn bằng thứ nhất của ĐHBK Hà Nội.\\n\\n**2. Các quy định chung:**\\n- Học bổng KKHT được cấp cho sinh viên dựa trên thành tích học tập và rèn luyện trong học kỳ trước đó, do Hội đồng xét cấp học bổng quyết định.\\n- Mục đích của học bổng là khuyến khích sinh viên nâng cao thành tích học tập.\\n- Quỹ học bổng KKHT được hình thành từ 8% học phí của học kỳ xét cấp học bổng.\\n- Các điều kiện để được cấp học bổng cũng đã được quy định cụ thể, bao gồm việc không quá thời gian học tập chuẩn và một số tiêu chí khác liên quan đến chương trình đào tạo.\\n\\n**3. Công bố kết quả xét duyệt và cấp học bổng:**\\n- Kết quả xét duyệt, danh sách sinh viên được cấp học bổng và mức điểm chuẩn sẽ được công bố trên cổng thông tin sinh viên của ĐHBK Hà Nội (ctt.hust.edu.vn) vào tuần học thứ 10 của học kỳ cấp học bổng.\\n- Học bổng sẽ được chuyển khoản cho sinh viên.\\n\\n**4. Hội đồng xét cấp học bổng:**\\n- Hội đồng xét cấp học bổng sẽ được thành lập theo quyết định của Giám đốc ĐHBK Hà Nội.\\n\\nQuy định này nhằm đảm bảo tính minh bạch và công bằng trong việc xét cấp học bổng cho sinh viên, đồng thời khuyến khích sinh viên nỗ lực trong học tập và rèn luyện.'}}]\n"
     ]
    }
   ],
   "source": [
    "print(results[0])"
   ]
  },
  {
   "cell_type": "code",
   "execution_count": 116,
   "metadata": {},
   "outputs": [],
   "source": [
    "docs = list((res[\"entity\"][\"text\"], res[\"entity\"][\"metadata\"][\"source\"],res[\"distance\"]) for res in results[0])  # docs = [(text:str, source:str, distance:float), ...]\n",
    "from langchain.schema import Document\n",
    "\n",
    "# Chuyển docs thành danh sách các Document của LangChain\n",
    "relevant_docs  = [\n",
    "    Document(page_content=text, metadata={\"source\": source, \"distance\": distance})\n",
    "    for text, source, distance in docs\n",
    "]\n"
   ]
  },
  {
   "cell_type": "code",
   "execution_count": 117,
   "metadata": {},
   "outputs": [
    {
     "name": "stdout",
     "output_type": "stream",
     "text": [
      "\n",
      "--- Relevant Documents ---\n",
      "Document 1:\n",
      "Hà Nội . 2. Quy định này áp dụng đối với sinh viên đại học hình thức đào tạo chính quy văn bằng thứ nhất của ĐHBK Hà Nội . Điều 2. Các quy định chung 1. Học bổng khuyến khích học tập (KKHT) cấp cho các sinh viên được lựa chọn bởi Hội đồng xét cấp học bổng\n",
      "\n",
      "Source: 20230710 1. QĐ Học bổng KKHT 2023.pdf\n",
      "\n",
      "Document 2:\n",
      "và cấp học bổng cho sinh viên đại học hình thức đào tạo chính quy tại Đại học Bách khoa Hà Nội (sau đây viết tắt là ĐHBK Hà Nội), căn cứ các quy định liên quan tại Nghị định số 84/2020/NĐ -CP ngày 17 /7/2020 của Chính phủ và Quy chế Quản lý tài chính của\n",
      "\n",
      "Source: 20230710 1. QĐ Học bổng KKHT 2023.pdf\n",
      "\n",
      "Document 3:\n",
      "học phí của học kỳ lấy điểm xét cấp học bổng . 4. Học bổng KKHT có 3 mức: a) Học bổng loại khá (loại C): Bằng tổng học phí của tất cả các học phần tính điểm trung bình học kỳ (GPA) . b)Học bổng loại giỏi (loại B): Bằng 1,2 lần mức học bổng loại khá .\n",
      "\n",
      "Source: 20230710 1. QĐ Học bổng KKHT 2023.pdf\n",
      "\n",
      "Document 4:\n",
      "Tài liệu cung cấp quy định chi tiết về học bổng khuyến khích học tập (KKHT) tại Đại học Bách khoa Hà Nội cho năm 2023. Dưới đây là tóm tắt các nội dung chính:\n",
      "\n",
      "### 1. Phạm vi và đối tượng áp dụng\n",
      "- Quy định này áp dụng cho sinh viên đại học hệ chính quy tại ĐHBK Hà Nội, dựa trên các quy định của Chính phủ và quy chế tài chính của trường.\n",
      "\n",
      "### 2. Các quy định chung\n",
      "- Học bổng KKHT được cấp dựa trên thành tích học tập và rèn luyện của sinh viên trong học kỳ trước.\n",
      "- Mục tiêu là khuyến khích sinh viên nâng cao thành tích học tập.\n",
      "- Quỹ học bổng được hình thành từ 8% học phí của học kỳ xét cấp học bổng.\n",
      "- Có các điều kiện cụ thể để được cấp học bổng, bao gồm thời gian học tập chuẩn và một số tiêu chí liên quan đến chương trình đào tạo.\n",
      "\n",
      "### 3. Công bố kết quả xét duyệt và cấp học bổng\n",
      "- Kết quả xét duyệt và danh sách sinh viên được cấp học bổng sẽ được công bố trên cổng thông tin sinh viên vào tuần học thứ 10 của học kỳ.\n",
      "- Học bổng sẽ được chuyển khoản cho sinh viên.\n",
      "\n",
      "### 4. Hội đồng xét cấp học bổng\n",
      "- Hội đồng xét cấp học bổng được thành lập theo quyết định của Giám đốc ĐHBK Hà Nội, có nhiệm vụ xét duyệt và cấp học bổng.\n",
      "\n",
      "### 5. Mức học bổng KKHT\n",
      "- Có ba mức học bổng dựa trên điểm GPA và điểm rèn luyện:\n",
      "  - **Loại C (Khá)**: GPA ≥ 2,5 và điểm rèn luyện ≥ 65 điểm.\n",
      "  - **Loại B (Giỏi)**: GPA ≥ 3,2 và điểm rèn luyện ≥ 80 điểm.\n",
      "  - **Loại A (Xuất sắc)**: GPA ≥ 3,6 và điểm rèn luyện ≥ 90 điểm.\n",
      "\n",
      "### 6. Tiêu chuẩn xét cấp học bổng\n",
      "- Học bổng được xét dựa trên GPA và điểm rèn luyện học kỳ.\n",
      "- Nếu nhiều sinh viên có GPA bằng nhau, ưu tiên dành cho sinh viên có điểm rèn luyện cao hơn.\n",
      "\n",
      "### 7. Đối tượng không đủ điều kiện\n",
      "\n",
      "\n",
      "Source: []\n",
      "\n",
      "Document 5:\n",
      "**Tóm tắt quy định về học bổng khuyến khích học tập tại Đại học Bách khoa Hà Nội năm 2023:**\n",
      "\n",
      "**1. Phạm vi và đối tượng áp dụng:**\n",
      "- Quy định này điều chỉnh việc xét duyệt và cấp học bổng khuyến khích học tập (KKHT) cho sinh viên đại học hệ chính quy tại Đại học Bách khoa Hà Nội (ĐHBK Hà Nội), dựa trên các quy định của Chính phủ và quy chế tài chính của trường.\n",
      "- Đối tượng áp dụng là sinh viên đại học hệ chính quy văn bằng thứ nhất của ĐHBK Hà Nội.\n",
      "\n",
      "**2. Các quy định chung:**\n",
      "- Học bổng KKHT được cấp cho sinh viên dựa trên thành tích học tập và rèn luyện trong học kỳ trước đó, do Hội đồng xét cấp học bổng quyết định.\n",
      "- Mục đích của học bổng là khuyến khích sinh viên nâng cao thành tích học tập.\n",
      "- Quỹ học bổng KKHT được hình thành từ 8% học phí của học kỳ xét cấp học bổng.\n",
      "- Các điều kiện để được cấp học bổng cũng đã được quy định cụ thể, bao gồm việc không quá thời gian học tập chuẩn và một số tiêu chí khác liên quan đến chương trình đào tạo.\n",
      "\n",
      "**3. Công bố kết quả xét duyệt và cấp học bổng:**\n",
      "- Kết quả xét duyệt, danh sách sinh viên được cấp học bổng và mức điểm chuẩn sẽ được công bố trên cổng thông tin sinh viên của ĐHBK Hà Nội (ctt.hust.edu.vn) vào tuần học thứ 10 của học kỳ cấp học bổng.\n",
      "- Học bổng sẽ được chuyển khoản cho sinh viên.\n",
      "\n",
      "**4. Hội đồng xét cấp học bổng:**\n",
      "- Hội đồng xét cấp học bổng sẽ được thành lập theo quyết định của Giám đốc ĐHBK Hà Nội.\n",
      "\n",
      "Quy định này nhằm đảm bảo tính minh bạch và công bằng trong việc xét cấp học bổng cho sinh viên, đồng thời khuyến khích sinh viên nỗ lực trong học tập và rèn luyện.\n",
      "\n",
      "Source: ['20230710 1. QĐ Học bổng KKHT 2023.pdf']\n",
      "\n"
     ]
    }
   ],
   "source": [
    "print(\"\\n--- Relevant Documents ---\")\n",
    "for i, doc in enumerate(relevant_docs, 1):\n",
    "    print(f\"Document {i}:\\n{doc.page_content}\\n\")\n",
    "    print(f\"Source: {doc.metadata['source']}\\n\")"
   ]
  },
  {
   "cell_type": "code",
   "execution_count": 119,
   "metadata": {},
   "outputs": [],
   "source": [
    "import os\n",
    "\n",
    "from dotenv import load_dotenv\n",
    "from langchain_community.vectorstores import Chroma\n",
    "from langchain_core.messages import HumanMessage, SystemMessage\n",
    "from langchain_openai import ChatOpenAI, OpenAIEmbeddings"
   ]
  },
  {
   "cell_type": "code",
   "execution_count": 128,
   "metadata": {},
   "outputs": [
    {
     "name": "stdout",
     "output_type": "stream",
     "text": [
      "\n",
      "--- Generated Response ---\n",
      "Full result:\n",
      "content='Đại học Bách Khoa Hà Nội cung cấp một loại học bổng gọi là học bổng khuyến khích học tập (KKHT). Dưới đây là các thông tin chính về học bổng này:\\n\\n### 1. Mức học bổng\\nHọc bổng KKHT có ba mức dựa trên điểm GPA và điểm rèn luyện:\\n- **Loại A (Xuất sắc)**: GPA ≥ 3,6 và điểm rèn luyện ≥ 90 điểm.\\n- **Loại B (Giỏi)**: GPA ≥ 3,2 và điểm rèn luyện ≥ 80 điểm.\\n- **Loại C (Khá)**: GPA ≥ 2,5 và điểm rèn luyện ≥ 65 điểm.\\n\\n### 2. Đối tượng áp dụng\\nHọc bổng này áp dụng cho sinh viên đại học hệ chính quy văn bằng thứ nhất tại Đại học Bách Khoa Hà Nội.\\n\\n### 3. Điều kiện cấp học bổng\\n- Sinh viên phải có thành tích học tập và rèn luyện trong học kỳ trước.\\n- Quỹ học bổng được hình thành từ 8% học phí của học kỳ xét cấp học bổng.\\n- Phải không quá thời gian học tập chuẩn và đáp ứng các tiêu chí liên quan đến chương trình đào tạo.\\n\\n### 4. Công bố kết quả\\nKết quả xét duyệt và danh sách sinh viên được cấp học bổng sẽ được công bố trên cổng thông tin sinh viên vào tuần học thứ 10 của học kỳ.\\n\\n### 5. Hội đồng xét cấp học bổng\\nHội đồng xét cấp học bổng sẽ được thành lập theo quyết định của Giám đốc ĐHBK Hà Nội và có nhiệm vụ xét duyệt và cấp học bổng.\\n\\nHọc bổng KKHT là một hình thức khuyến khích sinh viên nỗ lực học tập và nâng cao thành tích học tập tại trường.' additional_kwargs={'refusal': None} response_metadata={'token_usage': {'completion_tokens': 398, 'prompt_tokens': 1281, 'total_tokens': 1679, 'completion_tokens_details': {'audio_tokens': None, 'reasoning_tokens': 0}, 'prompt_tokens_details': {'audio_tokens': None, 'cached_tokens': 1152}}, 'model_name': 'gpt-4o-mini-2024-07-18', 'system_fingerprint': 'fp_0ba0d124f1', 'finish_reason': 'stop', 'logprobs': None} id='run-24856fa4-af27-4416-aedf-27e2786f309c-0' usage_metadata={'input_tokens': 1281, 'output_tokens': 398, 'total_tokens': 1679, 'input_token_details': {'cache_read': 1152}, 'output_token_details': {'reasoning': 0}}\n"
     ]
    }
   ],
   "source": [
    "\n",
    "# Combine the query and the relevant document contents\n",
    "combined_input = (\n",
    "    \"Here are some documents that might help answer the question: \"\n",
    "    + query\n",
    "    + \"\\n\\nRelevant Documents:\\n\"\n",
    "    + \"\\n\\n\".join([doc.page_content for doc in relevant_docs])\n",
    "    + \"\\n\\nPlease provide an answer based only on the provided documents. If the answer is not found in the documents, respond with 'I'm not sure'.\"\n",
    ")\n",
    "\n",
    "# Create a ChatOpenAI model\n",
    "model = llm\n",
    "\n",
    "# Define the messages for the model\n",
    "messages = [\n",
    "    SystemMessage(content=\"You are a helpful assistant.\"),\n",
    "    HumanMessage(content=combined_input),\n",
    "]\n",
    "\n",
    "# Invoke the model with the combined input\n",
    "result = model.invoke(messages)\n",
    "\n",
    "# Display the full result and content only\n",
    "print(\"\\n--- Generated Response ---\")\n",
    "print(\"Full result:\")\n",
    "print(result)\n",
    "# print(\"Content only:\")\n",
    "# print(result.content)"
   ]
  }
 ],
 "metadata": {
  "kernelspec": {
   "display_name": "rag",
   "language": "python",
   "name": "python3"
  },
  "language_info": {
   "codemirror_mode": {
    "name": "ipython",
    "version": 3
   },
   "file_extension": ".py",
   "mimetype": "text/x-python",
   "name": "python",
   "nbconvert_exporter": "python",
   "pygments_lexer": "ipython3",
   "version": "3.12.5"
  }
 },
 "nbformat": 4,
 "nbformat_minor": 2
}
