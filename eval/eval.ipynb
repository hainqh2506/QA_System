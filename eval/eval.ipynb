{
 "cells": [
  {
   "cell_type": "code",
   "execution_count": 5,
   "metadata": {},
   "outputs": [
    {
     "data": {
      "text/plain": [
       "True"
      ]
     },
     "execution_count": 5,
     "metadata": {},
     "output_type": "execute_result"
    }
   ],
   "source": [
    "import os\n",
    "import sys\n",
    "code_path = r\"D:\\DATN\\QA_System\\code\"\n",
    "sys.path.append(code_path)\n",
    "# Import trực tiếp từ các file\n",
    "from utils import convert_df_to_documents\n",
    "from model_config import load_gemini15 , load_tiktoken, load_tokenizer\n",
    "import os\n",
    "import pandas as pd\n",
    "from dotenv import load_dotenv\n",
    "import time\n",
    "load_dotenv()"
   ]
  },
  {
   "cell_type": "code",
   "execution_count": 6,
   "metadata": {},
   "outputs": [],
   "source": [
    "from milvus_db import MilvusDB, MilvusQADB\n",
    "from pymilvus import (\n",
    "    Collection,\n",
    "    CollectionSchema,\n",
    "    DataType,\n",
    "    FieldSchema,\n",
    "    connections,\n",
    "    utility,\n",
    "    MilvusException,\n",
    ")\n",
    "from typing import List, Dict"
   ]
  },
  {
   "cell_type": "code",
   "execution_count": 8,
   "metadata": {},
   "outputs": [
    {
     "name": "stdout",
     "output_type": "stream",
     "text": [
      "[INFO] Connected to Milvus.\n",
      "list_collections:  ['hybrid_demo', 'noraptor', 'base_qa', 'raptor']\n",
      "[INFO] Collection 'raptor' exists. Total entities: 1198\n",
      "[INFO] Collection 'base_qa' exists. Total entities: 2\n"
     ]
    }
   ],
   "source": [
    "# Kết nối Milvus\n",
    "def connect_to_milvus(uri=\"http://localhost:19530\"):\n",
    "    try:\n",
    "        connections.connect(uri=uri)\n",
    "        print(\"[INFO] Connected to Milvus.\")\n",
    "        print(\"list_collections: \", utility.list_collections())\n",
    "    except MilvusException as e:\n",
    "        print(f\"[ERROR] Error connecting to Milvus: {e}\")\n",
    "        raise e\n",
    "\n",
    "# Hàm kiểm tra trạng thái collection\n",
    "def check_collection_status(col_name: str):\n",
    "    try:\n",
    "        if utility.has_collection(col_name):\n",
    "            collection = Collection(name=col_name)\n",
    "            print(f\"[INFO] Collection '{col_name}' exists. Total entities: {collection.num_entities}\")\n",
    "        else:\n",
    "            print(f\"[INFO] Collection '{col_name}' does not exist.\")\n",
    "    except MilvusException as e:\n",
    "        print(f\"[ERROR] Error checking collection '{col_name}': {e}\")\n",
    "        raise e\n",
    "# Main logic\n",
    "if __name__ == \"__main__\":\n",
    "    connect_to_milvus()\n",
    "\n",
    "    # Tên collection\n",
    "    col_name = \"raptor\"\n",
    "\n",
    "    # Kiểm tra trạng thái collection\n",
    "    check_collection_status(col_name)\n",
    "    check_collection_status(col_name=\"base_qa\")"
   ]
  },
  {
   "cell_type": "code",
   "execution_count": 9,
   "metadata": {},
   "outputs": [
    {
     "name": "stdout",
     "output_type": "stream",
     "text": [
      "Đã load final_df từ file: D:\\DATN\\QA_System\\data_analyze\\finaldf.pkl\n",
      "Processed 1198 out of 1198 documents.\n"
     ]
    }
   ],
   "source": [
    "from milvus_db import MilvusDB, MilvusQADB# step4_vector_store\n",
    "from utils import convert_df_to_documents\n",
    "from model_config import VietnameseEmbeddings\n",
    "import os\n",
    "import pandas as pd\n",
    "def load_final_df():\n",
    "    final_df_path = r\"D:\\DATN\\QA_System\\data_analyze\\finaldf.pkl\"\n",
    "    if os.path.exists(final_df_path):\n",
    "        final_df = pd.read_pickle(final_df_path)\n",
    "        print(f\"Đã load final_df từ file: {final_df_path}\")\n",
    "        return final_df\n",
    "    else:\n",
    "        print(\"File final_df chưa tồn tại.\")\n",
    "        return None\n",
    "\n",
    "final_df = load_final_df()\n",
    "documents = convert_df_to_documents(final_df)\n",
    "corpus=[doc.page_content for doc in documents]"
   ]
  },
  {
   "cell_type": "code",
   "execution_count": 13,
   "metadata": {},
   "outputs": [
    {
     "data": {
      "text/plain": [
       "['noraptor', 'base_qa', 'raptor', 'hybrid_demo']"
      ]
     },
     "execution_count": 13,
     "metadata": {},
     "output_type": "execute_result"
    }
   ],
   "source": [
    "utility.list_collections()"
   ]
  },
  {
   "cell_type": "code",
   "execution_count": 14,
   "metadata": {},
   "outputs": [
    {
     "name": "stdout",
     "output_type": "stream",
     "text": [
      "[INFO] Collection 'noraptor' exists. Total entities: 981\n",
      "[INFO] Collection 'raptor' exists. Total entities: 1198\n"
     ]
    }
   ],
   "source": [
    "check_collection_status(\"noraptor\")\n",
    "check_collection_status(\"raptor\")"
   ]
  },
  {
   "cell_type": "code",
   "execution_count": 12,
   "metadata": {},
   "outputs": [
    {
     "name": "stderr",
     "output_type": "stream",
     "text": [
      "100%|██████████| 2560/2560 [13:16<00:00,  3.21it/s]\n"
     ]
    },
    {
     "name": "stdout",
     "output_type": "stream",
     "text": [
      "Hit@5: 0.44453125\n",
      "MRR@5: 0.21320963541666668\n"
     ]
    }
   ],
   "source": [
    "milvus_db = MilvusDB(\"noraptor\", corpus=corpus)\n",
    "milvus_db.load_collection()\n",
    "import pandas as pd\n",
    "from tqdm import tqdm\n",
    "\n",
    "def evaluate_hit_and_mrr(file_path, milvus_db, top_k=5, output_file=\"evaluation_results.xlsx\"):\n",
    "    \"\"\"\n",
    "    Evaluate hit@k and MRR@k for the retrieval system and save results to an Excel file.\n",
    "    \n",
    "    :param file_path: Path to the Excel file containing metadata, text, question, and answer.\n",
    "    :param milvus_db: Vector database object with a perform_retrieval(query, top_k) method.\n",
    "    :param top_k: Number of top results to consider for hit@k and MRR@k.\n",
    "    :param output_file: Path to the output Excel file to save the results.\n",
    "    :return: Dictionary with hit@k and MRR@k scores.\n",
    "    \"\"\"\n",
    "    # Load the Excel file\n",
    "    df = pd.read_excel(file_path)\n",
    "    \n",
    "    # Initialize counters for hit@k and MRR@k\n",
    "    hits = 0\n",
    "    reciprocal_ranks = []\n",
    "    results = []  # To store results for each question\n",
    "    \n",
    "    # Evaluate for each question\n",
    "    for idx, row in tqdm(df.iterrows(), total=len(df)):\n",
    "        question = row[\"question\"]\n",
    "        correct_metadata = row[\"metadata\"]\n",
    "        \n",
    "        # Retrieve top_k documents from the database\n",
    "        relevant_docs = milvus_db.perform_retrieval(query=question, top_k=top_k)\n",
    "        retrieved_metadata = [doc.metadata.get(\"source\") for doc in relevant_docs]\n",
    "        \n",
    "        # Check if the correct metadata is in the top_k results\n",
    "        if correct_metadata in retrieved_metadata:\n",
    "            hits += 1\n",
    "            rank = retrieved_metadata.index(correct_metadata) + 1\n",
    "            reciprocal_ranks.append(1 / rank)\n",
    "        else:\n",
    "            reciprocal_ranks.append(0)\n",
    "        \n",
    "        # Store result for each question\n",
    "        results.append({\n",
    "            \"question\": question,\n",
    "            \"correct_metadata\": correct_metadata,\n",
    "            \"retrieved_metadata\": retrieved_metadata[:top_k],\n",
    "            \"hit@k\": 1 if correct_metadata in retrieved_metadata else 0,\n",
    "            \"reciprocal_rank\": 1 / (retrieved_metadata.index(correct_metadata) + 1) if correct_metadata in retrieved_metadata else 0\n",
    "        })\n",
    "    \n",
    "    # Calculate hit@k and MRR@k\n",
    "    hit_at_k = hits / len(df)\n",
    "    mrr_at_k = sum(reciprocal_ranks) / len(df)\n",
    "    \n",
    "    # Save the detailed results and overall metrics to an Excel file\n",
    "    result_df = pd.DataFrame(results)\n",
    "    result_df.to_excel(output_file, index=False)\n",
    "    \n",
    "    # Return overall metrics\n",
    "    return {\"hit@k\": hit_at_k, \"mrr@k\": mrr_at_k}\n",
    "\n",
    "\n",
    "# Example usage\n",
    "file_path = r\"D:\\DATN\\QA_System\\eval\\testset\\final_dataset_qa.xlsx\"\n",
    "top_k = 5\n",
    "output_file = r\"D:\\DATN\\QA_System\\eval\\testset\\evaluation_results5.xlsx\"  # Specify the output file path\n",
    "\n",
    "scores = evaluate_hit_and_mrr(file_path, milvus_db, top_k=top_k, output_file=output_file)\n",
    "print(f\"Hit@{top_k}: {scores['hit@k']}\")\n",
    "print(f\"MRR@{top_k}: {scores['mrr@k']}\")\n"
   ]
  },
  {
   "cell_type": "code",
   "execution_count": 21,
   "metadata": {},
   "outputs": [],
   "source": [
    "from pymilvus.model.sparse.bm25.tokenizers import build_default_analyzer\n",
    "analyzer = build_default_analyzer(language=\"en\")"
   ]
  },
  {
   "cell_type": "code",
   "execution_count": null,
   "metadata": {},
   "outputs": [],
   "source": []
  },
  {
   "cell_type": "code",
   "execution_count": null,
   "metadata": {},
   "outputs": [],
   "source": [
    "from datasets import Dataset"
   ]
  }
 ],
 "metadata": {
  "kernelspec": {
   "display_name": "rag",
   "language": "python",
   "name": "python3"
  },
  "language_info": {
   "codemirror_mode": {
    "name": "ipython",
    "version": 3
   },
   "file_extension": ".py",
   "mimetype": "text/x-python",
   "name": "python",
   "nbconvert_exporter": "python",
   "pygments_lexer": "ipython3",
   "version": "3.12.5"
  }
 },
 "nbformat": 4,
 "nbformat_minor": 2
}
