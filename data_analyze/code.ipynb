{
 "cells": [
  {
   "cell_type": "code",
   "execution_count": 1,
   "metadata": {},
   "outputs": [
    {
     "name": "stdout",
     "output_type": "stream",
     "text": [
      "Tất cả các tệp CSV đã được ghép vào D:\\DATN\\QA_System\\data_hust\\test\\merged_output.csv\n"
     ]
    }
   ],
   "source": [
    "import pandas as pd\n",
    "import glob\n",
    "import os\n",
    "\n",
    "def merge_csv_files(input_directory: str, output_file: str):\n",
    "    # Tạo danh sách tất cả các tệp CSV trong thư mục\n",
    "    csv_files = glob.glob(os.path.join(input_directory, \"*.csv\"))\n",
    "    \n",
    "    # Đọc và ghép tất cả các tệp CSV lại thành một DataFrame\n",
    "    df_list = []  # Danh sách để lưu các DataFrame\n",
    "    for file in csv_files:\n",
    "        df = pd.read_csv(file)  # Đọc tệp CSV\n",
    "        df_list.append(df)  # Thêm DataFrame vào danh sách\n",
    "    \n",
    "    # Ghép tất cả các DataFrame lại thành một\n",
    "    merged_df = pd.concat(df_list, ignore_index=True)  # ignore_index để không giữ chỉ số ban đầu\n",
    "    print(f\"Tất cả các tệp CSV đã được ghép vào {output_file}\")\n",
    "    # Lưu DataFrame đã ghép vào tệp CSV mới\n",
    "    merged_df.to_csv(output_file, index=False) \n",
    "    df = merged_df\n",
    "    df = df.drop(columns=['embedding'])\n",
    "    df.head()\n",
    "    # Lưu lại DataFrame vào excel mới\n",
    "    df.to_excel(execfile, index=False)\n",
    "    \n",
    "\n",
    "# Sử dụng hàm\n",
    "input_directory = r\"D:\\DATN\\QA_System\\data_hust\\test\"  # Thư mục chứa các tệp CSV\n",
    "output_file = r\"D:\\DATN\\QA_System\\data_hust\\test\\merged_output.csv\"  # Tên tệp CSV đầu ra\n",
    "execfile = r\"D:\\DATN\\QA_System\\data_hust\\test\\finaldf.xlsx\"\n",
    "merge_csv_files(input_directory, output_file)\n"
   ]
  },
  {
   "cell_type": "code",
   "execution_count": null,
   "metadata": {},
   "outputs": [],
   "source": [
    "import pandas as pd\n",
    "import pickle\n",
    "\n",
    "# Đọc file CSV vào DataFrame\n",
    "df = pd.read_csv(r\"D:\\DATN\\QA_System\\data_hust\\run\\merged_output.csv\")\n",
    "\n",
    "# Xóa cột 'embedding'\n",
    "df = df.drop(columns=['embedding'])\n",
    "df.head()\n",
    "# Lưu lại DataFrame vào CSV mới\n",
    "df.to_excel('finaldf.xlsx', index=False)\n",
    "\n",
    "# Lưu lại DataFrame vào file pickle\n",
    "with open('finaldf.pkl', 'wb') as f:\n",
    "    pickle.dump(df, f)\n"
   ]
  },
  {
   "cell_type": "code",
   "execution_count": 3,
   "metadata": {},
   "outputs": [
    {
     "name": "stdout",
     "output_type": "stream",
     "text": [
      "level\n",
      "0    981\n",
      "1    188\n",
      "2     28\n",
      "3      1\n",
      "dtype: int64\n"
     ]
    }
   ],
   "source": [
    "import pandas as pd\n",
    "df = pd.read_excel(r'D:\\DATN\\QA_System\\data_analyze\\finaldf.xlsx')\n",
    "# Nhóm theo cột 'level' và đếm số lượng\n",
    "level_counts = df.groupby('level').size()\n",
    "\n",
    "# In kết quả\n",
    "print(level_counts)"
   ]
  },
  {
   "cell_type": "code",
   "execution_count": 3,
   "metadata": {},
   "outputs": [],
   "source": [
    "import pandas as pd\n",
    "import pickle\n",
    "# Đọc dữ liệu từ file CSV\n",
    "df = pd.read_excel(r'D:\\DATN\\QA_System\\data_analyze\\filnaldf0.xlsx')\n",
    "\n",
    "# # Lọc dữ liệu theo level == 0 và lưu vào file Excel\n",
    "# df_level_0 = df[df['level'] == 0]\n",
    "# df_level_0.to_excel('filnaldf0.xlsx', index=False)\n",
    "# # Lưu lại DataFrame vào file pickle\n",
    "with open('finaldf0.pkl', 'wb') as f:\n",
    "    pickle.dump(df, f)\n",
    "\n"
   ]
  }
 ],
 "metadata": {
  "kernelspec": {
   "display_name": "rag",
   "language": "python",
   "name": "python3"
  },
  "language_info": {
   "codemirror_mode": {
    "name": "ipython",
    "version": 3
   },
   "file_extension": ".py",
   "mimetype": "text/x-python",
   "name": "python",
   "nbconvert_exporter": "python",
   "pygments_lexer": "ipython3",
   "version": "3.12.5"
  }
 },
 "nbformat": 4,
 "nbformat_minor": 2
}
