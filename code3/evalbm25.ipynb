{
 "cells": [
  {
   "cell_type": "code",
   "execution_count": 2,
   "metadata": {},
   "outputs": [
    {
     "name": "stderr",
     "output_type": "stream",
     "text": [
      "c:\\Users\\PC\\anaconda3\\envs\\rag\\Lib\\site-packages\\sentence_transformers\\cross_encoder\\CrossEncoder.py:13: TqdmWarning: IProgress not found. Please update jupyter and ipywidgets. See https://ipywidgets.readthedocs.io/en/stable/user_install.html\n",
      "  from tqdm.autonotebook import tqdm, trange\n"
     ]
    },
    {
     "name": "stdout",
     "output_type": "stream",
     "text": [
      "Initializing Vietnamese embedding model: keepitreal/vietnamese-sbert\n"
     ]
    },
    {
     "name": "stderr",
     "output_type": "stream",
     "text": [
      "c:\\Users\\PC\\anaconda3\\envs\\rag\\Lib\\site-packages\\transformers\\tokenization_utils_base.py:1617: FutureWarning: `clean_up_tokenization_spaces` was not set. It will be set to `True` by default. This behavior will be deprecated in transformers v4.45, and will be then set to `False` by default. For more details check this issue: https://github.com/huggingface/transformers/issues/31884\n",
      "  warnings.warn(\n"
     ]
    }
   ],
   "source": [
    "from uuid import uuid4\n",
    "import pandas as pd\n",
    "from langchain_core.documents import Document\n",
    "import os\n",
    "from model_config import VietnameseEmbeddings\n",
    "from elasticsearch import Elasticsearch\n",
    "# Kết nối tới Elasticsearch\n",
    "es = Elasticsearch(\n",
    "    \"https://my-elasticsearch-project-fc9fd1.es.ap-southeast-1.aws.elastic.cloud:443\",\n",
    "    api_key=\"aXY4NkpKUUJaNVNfUEdnZHdVZ186MExmVk1iclZRWWlrS1hpeDRhOWRGUQ==\"\n",
    ")\n",
    "index = \"base\"\n",
    "embeddings = VietnameseEmbeddings()\n",
    "excel = r\"D:\\DATN\\QA_System\\eval\\testset\\final_dataset_qa.xlsx\"\n",
    "chunks = pd.read_excel(excel)"
   ]
  },
  {
   "cell_type": "code",
   "execution_count": 9,
   "metadata": {},
   "outputs": [
    {
     "name": "stdout",
     "output_type": "stream",
     "text": [
      "Bắt đầu đánh giá...\n"
     ]
    },
    {
     "name": "stderr",
     "output_type": "stream",
     "text": [
      "Processing: Chiến lược phát triển của Đại ...:  20%|██        | 2/10 [00:00<00:02,  3.25it/s, Hit@20=1.00]"
     ]
    },
    {
     "name": "stdout",
     "output_type": "stream",
     "text": [
      "correct source: {'source': 'Chiến lược phát triển đại học Bách khoa Hà Nội.txt', 'id': '0'}\n",
      "search_results: [{'source': {'source': 'Chiến lược phát triển đại học Bách khoa Hà Nội.txt', 'id': '0'}, 'level': 0}, {'source': {'source': 'Thông điệp của giám đốc đại học.txt', 'id': '4'}, 'level': 0}, {'source': {'source': 'Chương trình đào tạo kỹ sư chuyên sâu đặc thù của Đại học Bách khoa Hà Nội.txt', 'id': '3'}, 'level': 0}, {'source': {'source': 'Hệ thống doanh nghiệp của Đại học.txt', 'id': '5'}, 'level': 0}, {'source': {'source': 'Hệ thống doanh nghiệp của Đại học.txt', 'id': '1'}, 'level': 0}, {'source': {'source': 'Sứ mạng, tầm nhìn và giá trị cốt lõi.txt', 'id': '3'}, 'level': 0}, {'source': {'source': 'Các giai đoạn lịch sử.txt', 'id': '0'}, 'level': 0}, {'source': {'source': 'Hệ thống doanh nghiệp của Đại học.txt', 'id': '3'}, 'level': 0}, {'source': {'source': 'Quy định miễn giảm học phí 2023.txt', 'id': '0'}, 'level': 0}, {'source': {'source': 'Trung tâm Công nghệ và Giải pháp Chuyển đổi số trong Giáo dục (EdTech).txt', 'id': '2'}, 'level': 0}, {'source': {'source': 'Giới thiệu Khoa Khoa học máy tính.txt', 'id': '15'}, 'level': 0}, {'source': {'source': 'Hội đồng Đại học Bách khoa Hà Nội.txt', 'id': '2'}, 'level': 0}, {'source': {'source': 'Thông điệp của giám đốc đại học.txt', 'id': '5'}, 'level': 0}, {'source': {'source': 'Quy định Học bổng KKHT 2023.txt', 'id': '0'}, 'level': 0}, {'source': {'source': 'Chương trình đào tạo kỹ sư chuyên sâu đặc thù của Đại học Bách khoa Hà Nội.txt', 'id': '0'}, 'level': 0}, {'source': {'source': 'Đào tạo Đại học theo hình thức vừa làm vừa học.txt', 'id': '1'}, 'level': 0}, {'source': {'source': 'Trường Công nghệ Thông tin và Truyền thông.txt', 'id': '3'}, 'level': 0}, {'source': {'source': 'Trường Công nghệ Thông tin và Truyền thông.txt', 'id': '0'}, 'level': 0}, {'source': {'source': 'Hội đồng Đại học Bách khoa Hà Nội.txt', 'id': '0'}, 'level': 0}, {'source': {'source': 'Quy chế đào tạo 2023.txt', 'id': '79'}, 'level': 0}]\n",
      "sources: [{'source': 'Chiến lược phát triển đại học Bách khoa Hà Nội.txt', 'id': '0'}, {'source': 'Thông điệp của giám đốc đại học.txt', 'id': '4'}, {'source': 'Chương trình đào tạo kỹ sư chuyên sâu đặc thù của Đại học Bách khoa Hà Nội.txt', 'id': '3'}, {'source': 'Hệ thống doanh nghiệp của Đại học.txt', 'id': '5'}, {'source': 'Hệ thống doanh nghiệp của Đại học.txt', 'id': '1'}, {'source': 'Sứ mạng, tầm nhìn và giá trị cốt lõi.txt', 'id': '3'}, {'source': 'Các giai đoạn lịch sử.txt', 'id': '0'}, {'source': 'Hệ thống doanh nghiệp của Đại học.txt', 'id': '3'}, {'source': 'Quy định miễn giảm học phí 2023.txt', 'id': '0'}, {'source': 'Trung tâm Công nghệ và Giải pháp Chuyển đổi số trong Giáo dục (EdTech).txt', 'id': '2'}, {'source': 'Giới thiệu Khoa Khoa học máy tính.txt', 'id': '15'}, {'source': 'Hội đồng Đại học Bách khoa Hà Nội.txt', 'id': '2'}, {'source': 'Thông điệp của giám đốc đại học.txt', 'id': '5'}, {'source': 'Quy định Học bổng KKHT 2023.txt', 'id': '0'}, {'source': 'Chương trình đào tạo kỹ sư chuyên sâu đặc thù của Đại học Bách khoa Hà Nội.txt', 'id': '0'}, {'source': 'Đào tạo Đại học theo hình thức vừa làm vừa học.txt', 'id': '1'}, {'source': 'Trường Công nghệ Thông tin và Truyền thông.txt', 'id': '3'}, {'source': 'Trường Công nghệ Thông tin và Truyền thông.txt', 'id': '0'}, {'source': 'Hội đồng Đại học Bách khoa Hà Nội.txt', 'id': '0'}, {'source': 'Quy chế đào tạo 2023.txt', 'id': '79'}]\n",
      "correct source: {'source': 'Chiến lược phát triển đại học Bách khoa Hà Nội.txt', 'id': '0'}\n",
      "search_results: [{'source': {'source': 'Chiến lược phát triển đại học Bách khoa Hà Nội.txt', 'id': '0'}, 'level': 0}, {'source': {'source': 'Thông điệp của giám đốc đại học.txt', 'id': '4'}, 'level': 0}, {'source': {'source': 'Mô hình và chương trình đào tạo hệ Đại học chính quy.txt', 'id': '0'}, 'level': 0}, {'source': {'source': 'Hệ thống doanh nghiệp của Đại học.txt', 'id': '3'}, 'level': 0}, {'source': {'source': 'Giới thiệu Khoa Kỹ thuật máy tính.txt', 'id': '2'}, 'level': 0}, {'source': {'source': 'Trường Công nghệ Thông tin và Truyền thông.txt', 'id': '3'}, 'level': 0}, {'source': {'source': 'Mô hình đào tạo Trường Công nghệ Thông tin và Truyền thông.txt', 'id': '0'}, 'level': 0}, {'source': {'source': 'Hệ thống doanh nghiệp của Đại học.txt', 'id': '5'}, 'level': 0}, {'source': {'source': 'Chương trình đào tạo kỹ sư chuyên sâu đặc thù của Đại học Bách khoa Hà Nội.txt', 'id': '3'}, 'level': 0}, {'source': {'source': 'Mô hình đào tạo Trường Công nghệ Thông tin và Truyền thông.txt', 'id': '10'}, 'level': 0}, {'source': {'source': 'Trung tâm An toàn – An ninh thông tin (BKCS).txt', 'id': '5'}, 'level': 0}, {'source': {'source': 'Hội đồng Đại học Bách khoa Hà Nội.txt', 'id': '2'}, 'level': 0}, {'source': {'source': 'Chiến lược phát triển đại học Bách khoa Hà Nội.txt', 'id': '3'}, 'level': 0}, {'source': {'source': 'Quản lý câu lạc bộ sinh viên 2023.txt', 'id': '33'}, 'level': 0}, {'source': {'source': 'Trung tâm Máy tính và Thực hành.txt', 'id': '5'}, 'level': 0}, {'source': {'source': 'Quản lý câu lạc bộ sinh viên 2023.txt', 'id': '34'}, 'level': 0}, {'source': {'source': 'Thông điệp của giám đốc đại học.txt', 'id': '5'}, 'level': 0}, {'source': {'source': 'Trung tâm An toàn – An ninh thông tin (BKCS).txt', 'id': '2'}, 'level': 0}, {'source': {'source': 'Đào tạo Đại học theo hình thức vừa làm vừa học.txt', 'id': '6'}, 'level': 0}, {'source': {'source': 'Trung tâm Công nghệ và Giải pháp Chuyển đổi số trong Giáo dục (EdTech).txt', 'id': '6'}, 'level': 0}]\n",
      "sources: [{'source': 'Chiến lược phát triển đại học Bách khoa Hà Nội.txt', 'id': '0'}, {'source': 'Thông điệp của giám đốc đại học.txt', 'id': '4'}, {'source': 'Mô hình và chương trình đào tạo hệ Đại học chính quy.txt', 'id': '0'}, {'source': 'Hệ thống doanh nghiệp của Đại học.txt', 'id': '3'}, {'source': 'Giới thiệu Khoa Kỹ thuật máy tính.txt', 'id': '2'}, {'source': 'Trường Công nghệ Thông tin và Truyền thông.txt', 'id': '3'}, {'source': 'Mô hình đào tạo Trường Công nghệ Thông tin và Truyền thông.txt', 'id': '0'}, {'source': 'Hệ thống doanh nghiệp của Đại học.txt', 'id': '5'}, {'source': 'Chương trình đào tạo kỹ sư chuyên sâu đặc thù của Đại học Bách khoa Hà Nội.txt', 'id': '3'}, {'source': 'Mô hình đào tạo Trường Công nghệ Thông tin và Truyền thông.txt', 'id': '10'}, {'source': 'Trung tâm An toàn – An ninh thông tin (BKCS).txt', 'id': '5'}, {'source': 'Hội đồng Đại học Bách khoa Hà Nội.txt', 'id': '2'}, {'source': 'Chiến lược phát triển đại học Bách khoa Hà Nội.txt', 'id': '3'}, {'source': 'Quản lý câu lạc bộ sinh viên 2023.txt', 'id': '33'}, {'source': 'Trung tâm Máy tính và Thực hành.txt', 'id': '5'}, {'source': 'Quản lý câu lạc bộ sinh viên 2023.txt', 'id': '34'}, {'source': 'Thông điệp của giám đốc đại học.txt', 'id': '5'}, {'source': 'Trung tâm An toàn – An ninh thông tin (BKCS).txt', 'id': '2'}, {'source': 'Đào tạo Đại học theo hình thức vừa làm vừa học.txt', 'id': '6'}, {'source': 'Trung tâm Công nghệ và Giải pháp Chuyển đổi số trong Giáo dục (EdTech).txt', 'id': '6'}]\n"
     ]
    },
    {
     "name": "stderr",
     "output_type": "stream",
     "text": [
      "Processing: Mô hình quản trị tiên tiến và ...:  30%|███       | 3/10 [00:00<00:01,  3.87it/s, Hit@20=1.00]"
     ]
    },
    {
     "name": "stdout",
     "output_type": "stream",
     "text": [
      "correct source: {'source': 'Chiến lược phát triển đại học Bách khoa Hà Nội.txt', 'id': '0'}\n",
      "search_results: [{'source': {'source': 'Chiến lược phát triển đại học Bách khoa Hà Nội.txt', 'id': '0'}, 'level': 0}, {'source': {'source': 'Thông điệp của giám đốc đại học.txt', 'id': '4'}, 'level': 0}, {'source': {'source': 'Chương trình đào tạo kỹ sư chuyên sâu đặc thù của Đại học Bách khoa Hà Nội.txt', 'id': '3'}, 'level': 0}, {'source': {'source': 'Hệ thống doanh nghiệp của Đại học.txt', 'id': '5'}, 'level': 0}, {'source': {'source': 'Hệ thống doanh nghiệp của Đại học.txt', 'id': '1'}, 'level': 0}, {'source': {'source': 'Hệ thống doanh nghiệp của Đại học.txt', 'id': '3'}, 'level': 0}, {'source': {'source': 'Mô hình và chương trình đào tạo hệ Đại học chính quy.txt', 'id': '0'}, 'level': 0}, {'source': {'source': 'Chương trình đào tạo kỹ sư chuyên sâu đặc thù của Đại học Bách khoa Hà Nội.txt', 'id': '0'}, 'level': 0}, {'source': {'source': 'Các giai đoạn lịch sử.txt', 'id': '0'}, 'level': 0}, {'source': {'source': 'Thông điệp của giám đốc đại học.txt', 'id': '5'}, 'level': 0}, {'source': {'source': 'Trường Công nghệ Thông tin và Truyền thông.txt', 'id': '3'}, 'level': 0}, {'source': {'source': 'Chiến lược phát triển đại học Bách khoa Hà Nội.txt', 'id': '1'}, 'level': 0}, {'source': {'source': 'Trung tâm Nghiên cứu Quốc tế về Trí tuệ nhân tạo.txt', 'id': '1'}, 'level': 0}, {'source': {'source': 'Tổng quan Đại học Bách khoa Hà Nội.txt', 'id': '9'}, 'level': 0}, {'source': {'source': 'Trung tậm Nghiên cứu Quốc tế về Định vị sử dụng vệ tinh (NAVIS).txt', 'id': '2'}, 'level': 0}, {'source': {'source': 'Trung tâm An toàn – An ninh thông tin (BKCS).txt', 'id': '2'}, 'level': 0}, {'source': {'source': 'Sứ mạng, tầm nhìn và giá trị cốt lõi.txt', 'id': '3'}, 'level': 0}, {'source': {'source': 'Trung tâm Công nghệ và Giải pháp Chuyển đổi số trong Giáo dục (EdTech).txt', 'id': '9'}, 'level': 0}, {'source': {'source': 'Trung tâm Công nghệ và Giải pháp Chuyển đổi số trong Giáo dục (EdTech).txt', 'id': '7'}, 'level': 0}, {'source': {'source': 'Danh hiệu - khen thưởng.txt', 'id': '0'}, 'level': 0}]\n",
      "sources: [{'source': 'Chiến lược phát triển đại học Bách khoa Hà Nội.txt', 'id': '0'}, {'source': 'Thông điệp của giám đốc đại học.txt', 'id': '4'}, {'source': 'Chương trình đào tạo kỹ sư chuyên sâu đặc thù của Đại học Bách khoa Hà Nội.txt', 'id': '3'}, {'source': 'Hệ thống doanh nghiệp của Đại học.txt', 'id': '5'}, {'source': 'Hệ thống doanh nghiệp của Đại học.txt', 'id': '1'}, {'source': 'Hệ thống doanh nghiệp của Đại học.txt', 'id': '3'}, {'source': 'Mô hình và chương trình đào tạo hệ Đại học chính quy.txt', 'id': '0'}, {'source': 'Chương trình đào tạo kỹ sư chuyên sâu đặc thù của Đại học Bách khoa Hà Nội.txt', 'id': '0'}, {'source': 'Các giai đoạn lịch sử.txt', 'id': '0'}, {'source': 'Thông điệp của giám đốc đại học.txt', 'id': '5'}, {'source': 'Trường Công nghệ Thông tin và Truyền thông.txt', 'id': '3'}, {'source': 'Chiến lược phát triển đại học Bách khoa Hà Nội.txt', 'id': '1'}, {'source': 'Trung tâm Nghiên cứu Quốc tế về Trí tuệ nhân tạo.txt', 'id': '1'}, {'source': 'Tổng quan Đại học Bách khoa Hà Nội.txt', 'id': '9'}, {'source': 'Trung tậm Nghiên cứu Quốc tế về Định vị sử dụng vệ tinh (NAVIS).txt', 'id': '2'}, {'source': 'Trung tâm An toàn – An ninh thông tin (BKCS).txt', 'id': '2'}, {'source': 'Sứ mạng, tầm nhìn và giá trị cốt lõi.txt', 'id': '3'}, {'source': 'Trung tâm Công nghệ và Giải pháp Chuyển đổi số trong Giáo dục (EdTech).txt', 'id': '9'}, {'source': 'Trung tâm Công nghệ và Giải pháp Chuyển đổi số trong Giáo dục (EdTech).txt', 'id': '7'}, {'source': 'Danh hiệu - khen thưởng.txt', 'id': '0'}]\n",
      "correct source: {'source': 'Chiến lược phát triển đại học Bách khoa Hà Nội.txt', 'id': '1'}\n",
      "search_results: [{'source': {'source': 'Chiến lược phát triển đại học Bách khoa Hà Nội.txt', 'id': '0'}, 'level': 0}, {'source': {'source': 'Chiến lược phát triển đại học Bách khoa Hà Nội.txt', 'id': '1'}, 'level': 0}, {'source': {'source': 'Chiến lược phát triển đại học Bách khoa Hà Nội.txt', 'id': '5'}, 'level': 0}, {'source': {'source': 'Chiến lược phát triển đại học Bách khoa Hà Nội.txt', 'id': '6'}, 'level': 0}, {'source': {'source': 'Chiến lược phát triển đại học Bách khoa Hà Nội.txt', 'id': '4'}, 'level': 0}, {'source': {'source': 'Thông điệp của giám đốc đại học.txt', 'id': '5'}, 'level': 0}, {'source': {'source': 'Sứ mạng, tầm nhìn và giá trị cốt lõi.txt', 'id': '2'}, 'level': 0}, {'source': {'source': 'Mô hình và chương trình đào tạo hệ Đại học chính quy.txt', 'id': '0'}, 'level': 0}, {'source': {'source': 'Hệ thống doanh nghiệp của Đại học.txt', 'id': '5'}, 'level': 0}, {'source': {'source': 'Sứ mạng, tầm nhìn và giá trị cốt lõi.txt', 'id': '3'}, 'level': 0}, {'source': {'source': 'Thông điệp của giám đốc đại học.txt', 'id': '4'}, 'level': 0}, {'source': {'source': 'Trường Công nghệ Thông tin và Truyền thông.txt', 'id': '5'}, 'level': 0}, {'source': {'source': 'Thông điệp của giám đốc đại học.txt', 'id': '2'}, 'level': 0}, {'source': {'source': 'Giới thiệu Khoa Khoa học máy tính.txt', 'id': '18'}, 'level': 0}, {'source': {'source': 'Hướng dẫn triển khai các vấn đề liên quan đến CLB Sinh viên.txt', 'id': '1'}, 'level': 0}, {'source': {'source': 'Giới thiệu Khoa Khoa học máy tính.txt', 'id': '16'}, 'level': 0}, {'source': {'source': 'Trung tâm Công nghệ và Giải pháp Chuyển đổi số trong Giáo dục (EdTech).txt', 'id': '5'}, 'level': 0}, {'source': {'source': 'Trung tâm Nghiên cứu Quốc tế về Trí tuệ nhân tạo.txt', 'id': '12'}, 'level': 0}, {'source': {'source': 'Chương trình đào tạo kỹ sư chuyên sâu đặc thù của Đại học Bách khoa Hà Nội.txt', 'id': '3'}, 'level': 0}, {'source': {'source': 'Trung tâm Công nghệ và Giải pháp Chuyển đổi số trong Giáo dục (EdTech).txt', 'id': '2'}, 'level': 0}]\n",
      "sources: [{'source': 'Chiến lược phát triển đại học Bách khoa Hà Nội.txt', 'id': '0'}, {'source': 'Chiến lược phát triển đại học Bách khoa Hà Nội.txt', 'id': '1'}, {'source': 'Chiến lược phát triển đại học Bách khoa Hà Nội.txt', 'id': '5'}, {'source': 'Chiến lược phát triển đại học Bách khoa Hà Nội.txt', 'id': '6'}, {'source': 'Chiến lược phát triển đại học Bách khoa Hà Nội.txt', 'id': '4'}, {'source': 'Thông điệp của giám đốc đại học.txt', 'id': '5'}, {'source': 'Sứ mạng, tầm nhìn và giá trị cốt lõi.txt', 'id': '2'}, {'source': 'Mô hình và chương trình đào tạo hệ Đại học chính quy.txt', 'id': '0'}, {'source': 'Hệ thống doanh nghiệp của Đại học.txt', 'id': '5'}, {'source': 'Sứ mạng, tầm nhìn và giá trị cốt lõi.txt', 'id': '3'}, {'source': 'Thông điệp của giám đốc đại học.txt', 'id': '4'}, {'source': 'Trường Công nghệ Thông tin và Truyền thông.txt', 'id': '5'}, {'source': 'Thông điệp của giám đốc đại học.txt', 'id': '2'}, {'source': 'Giới thiệu Khoa Khoa học máy tính.txt', 'id': '18'}, {'source': 'Hướng dẫn triển khai các vấn đề liên quan đến CLB Sinh viên.txt', 'id': '1'}, {'source': 'Giới thiệu Khoa Khoa học máy tính.txt', 'id': '16'}, {'source': 'Trung tâm Công nghệ và Giải pháp Chuyển đổi số trong Giáo dục (EdTech).txt', 'id': '5'}, {'source': 'Trung tâm Nghiên cứu Quốc tế về Trí tuệ nhân tạo.txt', 'id': '12'}, {'source': 'Chương trình đào tạo kỹ sư chuyên sâu đặc thù của Đại học Bách khoa Hà Nội.txt', 'id': '3'}, {'source': 'Trung tâm Công nghệ và Giải pháp Chuyển đổi số trong Giáo dục (EdTech).txt', 'id': '2'}]\n"
     ]
    },
    {
     "name": "stderr",
     "output_type": "stream",
     "text": [
      "Processing:  Chiến lược nào được sử dụng đ...:  50%|█████     | 5/10 [00:01<00:01,  4.50it/s, Hit@20=1.00]"
     ]
    },
    {
     "name": "stdout",
     "output_type": "stream",
     "text": [
      "correct source: {'source': 'Chiến lược phát triển đại học Bách khoa Hà Nội.txt', 'id': '1'}\n",
      "search_results: [{'source': {'source': 'Chương trình đào tạo kỹ sư chuyên sâu đặc thù của Đại học Bách khoa Hà Nội.txt', 'id': '14'}, 'level': 0}, {'source': {'source': 'Học bổng cho sinh viên.txt', 'id': '7'}, 'level': 0}, {'source': {'source': 'Chiến lược phát triển đại học Bách khoa Hà Nội.txt', 'id': '2'}, 'level': 0}, {'source': {'source': 'Chiến lược phát triển đại học Bách khoa Hà Nội.txt', 'id': '1'}, 'level': 0}, {'source': {'source': 'Đào tạo Đại học theo hình thức vừa làm vừa học.txt', 'id': '15'}, 'level': 0}, {'source': {'source': 'Chương trình đào tạo kỹ sư chuyên sâu đặc thù của Đại học Bách khoa Hà Nội.txt', 'id': '4'}, 'level': 0}, {'source': {'source': 'Chương trình đào tạo kỹ sư chuyên sâu đặc thù của Đại học Bách khoa Hà Nội.txt', 'id': '1'}, 'level': 0}, {'source': {'source': 'Đào tạo Đại học theo hình thức vừa làm vừa học.txt', 'id': '11'}, 'level': 0}, {'source': {'source': 'Hệ Đại học Trường Công nghệ Thông tin và Truyền thông.txt', 'id': '5'}, 'level': 0}, {'source': {'source': 'Chương trình đào tạo kỹ sư chuyên sâu đặc thù của Đại học Bách khoa Hà Nội.txt', 'id': '7'}, 'level': 0}, {'source': {'source': 'Chương trình đào tạo kỹ sư chuyên sâu đặc thù của Đại học Bách khoa Hà Nội.txt', 'id': '5'}, 'level': 0}, {'source': {'source': 'Chiến lược phát triển đại học Bách khoa Hà Nội.txt', 'id': '5'}, 'level': 0}, {'source': {'source': 'Đào tạo Đại học theo hình thức vừa làm vừa học.txt', 'id': '14'}, 'level': 0}, {'source': {'source': 'Quy định thi Olympic và ĐMST 2023.txt', 'id': '3'}, 'level': 0}, {'source': {'source': 'Hướng dẫn triển khai các vấn đề liên quan đến CLB Sinh viên.txt', 'id': '0'}, 'level': 0}, {'source': {'source': 'Quy định chuẩn ngoại ngữ đầu ra đối với các chương trình đặc biệt và chất lượng cao.txt', 'id': '0'}, 'level': 0}, {'source': {'source': 'QĐ ban hành Quy định học bổng trao đổi.txt', 'id': '5'}, 'level': 0}, {'source': {'source': 'Quy chế đào tạo 2023.txt', 'id': '7'}, 'level': 0}, {'source': {'source': 'Quy định Về công tác tổ chức đội tuyển tham dự các kỳ thi Olympic môn học.txt', 'id': '3'}, 'level': 0}, {'source': {'source': 'Mô hình và chương trình đào tạo hệ Đại học chính quy.txt', 'id': '5'}, 'level': 0}]\n",
      "sources: [{'source': 'Chương trình đào tạo kỹ sư chuyên sâu đặc thù của Đại học Bách khoa Hà Nội.txt', 'id': '14'}, {'source': 'Học bổng cho sinh viên.txt', 'id': '7'}, {'source': 'Chiến lược phát triển đại học Bách khoa Hà Nội.txt', 'id': '2'}, {'source': 'Chiến lược phát triển đại học Bách khoa Hà Nội.txt', 'id': '1'}, {'source': 'Đào tạo Đại học theo hình thức vừa làm vừa học.txt', 'id': '15'}, {'source': 'Chương trình đào tạo kỹ sư chuyên sâu đặc thù của Đại học Bách khoa Hà Nội.txt', 'id': '4'}, {'source': 'Chương trình đào tạo kỹ sư chuyên sâu đặc thù của Đại học Bách khoa Hà Nội.txt', 'id': '1'}, {'source': 'Đào tạo Đại học theo hình thức vừa làm vừa học.txt', 'id': '11'}, {'source': 'Hệ Đại học Trường Công nghệ Thông tin và Truyền thông.txt', 'id': '5'}, {'source': 'Chương trình đào tạo kỹ sư chuyên sâu đặc thù của Đại học Bách khoa Hà Nội.txt', 'id': '7'}, {'source': 'Chương trình đào tạo kỹ sư chuyên sâu đặc thù của Đại học Bách khoa Hà Nội.txt', 'id': '5'}, {'source': 'Chiến lược phát triển đại học Bách khoa Hà Nội.txt', 'id': '5'}, {'source': 'Đào tạo Đại học theo hình thức vừa làm vừa học.txt', 'id': '14'}, {'source': 'Quy định thi Olympic và ĐMST 2023.txt', 'id': '3'}, {'source': 'Hướng dẫn triển khai các vấn đề liên quan đến CLB Sinh viên.txt', 'id': '0'}, {'source': 'Quy định chuẩn ngoại ngữ đầu ra đối với các chương trình đặc biệt và chất lượng cao.txt', 'id': '0'}, {'source': 'QĐ ban hành Quy định học bổng trao đổi.txt', 'id': '5'}, {'source': 'Quy chế đào tạo 2023.txt', 'id': '7'}, {'source': 'Quy định Về công tác tổ chức đội tuyển tham dự các kỳ thi Olympic môn học.txt', 'id': '3'}, {'source': 'Mô hình và chương trình đào tạo hệ Đại học chính quy.txt', 'id': '5'}]\n",
      "correct source: {'source': 'Chiến lược phát triển đại học Bách khoa Hà Nội.txt', 'id': '1'}\n",
      "search_results: [{'source': {'source': 'Chiến lược phát triển đại học Bách khoa Hà Nội.txt', 'id': '1'}, 'level': 0}, {'source': {'source': 'Thông điệp của giám đốc đại học.txt', 'id': '3'}, 'level': 0}, {'source': {'source': 'Quy chế đào tạo 2023.txt', 'id': '72'}, 'level': 0}, {'source': {'source': 'Chiến lược phát triển đại học Bách khoa Hà Nội.txt', 'id': '2'}, 'level': 0}, {'source': {'source': 'QĐ ban hành Quy định học bổng trao đổi.txt', 'id': '6'}, 'level': 0}, {'source': {'source': 'Giới thiệu Khoa Khoa học máy tính.txt', 'id': '26'}, 'level': 0}, {'source': {'source': 'Chiến lược phát triển đại học Bách khoa Hà Nội.txt', 'id': '0'}, 'level': 0}, {'source': {'source': 'Thông điệp của giám đốc đại học.txt', 'id': '4'}, 'level': 0}, {'source': {'source': 'Quy định Học bổng Trần Đại Nghĩa 2023.txt', 'id': '1'}, 'level': 0}, {'source': {'source': 'Hệ thống doanh nghiệp của Đại học.txt', 'id': '3'}, 'level': 0}, {'source': {'source': 'Trường Công nghệ Thông tin và Truyền thông.txt', 'id': '30'}, 'level': 0}, {'source': {'source': 'Quy định chuẩn ngoại ngữ đầu ra đối với các chương trình đặc biệt và chất lượng cao.txt', 'id': '4'}, 'level': 0}, {'source': {'source': 'Trường Công nghệ Thông tin và Truyền thông.txt', 'id': '11'}, 'level': 0}, {'source': {'source': 'Trung tâm An toàn – An ninh thông tin (BKCS).txt', 'id': '4'}, 'level': 0}, {'source': {'source': 'Quy định Học bổng Trần Đại Nghĩa 2023.txt', 'id': '0'}, 'level': 0}, {'source': {'source': 'Trung tâm Nghiên cứu Quốc tế về Trí tuệ nhân tạo.txt', 'id': '9'}, 'level': 0}, {'source': {'source': 'Mô hình đào tạo Trường Công nghệ Thông tin và Truyền thông.txt', 'id': '6'}, 'level': 0}, {'source': {'source': 'Trường Công nghệ Thông tin và Truyền thông.txt', 'id': '38'}, 'level': 0}, {'source': {'source': 'Trường Công nghệ Thông tin và Truyền thông.txt', 'id': '28'}, 'level': 0}, {'source': {'source': 'Quy chế đào tạo 2023.txt', 'id': '117'}, 'level': 0}]\n",
      "sources: [{'source': 'Chiến lược phát triển đại học Bách khoa Hà Nội.txt', 'id': '1'}, {'source': 'Thông điệp của giám đốc đại học.txt', 'id': '3'}, {'source': 'Quy chế đào tạo 2023.txt', 'id': '72'}, {'source': 'Chiến lược phát triển đại học Bách khoa Hà Nội.txt', 'id': '2'}, {'source': 'QĐ ban hành Quy định học bổng trao đổi.txt', 'id': '6'}, {'source': 'Giới thiệu Khoa Khoa học máy tính.txt', 'id': '26'}, {'source': 'Chiến lược phát triển đại học Bách khoa Hà Nội.txt', 'id': '0'}, {'source': 'Thông điệp của giám đốc đại học.txt', 'id': '4'}, {'source': 'Quy định Học bổng Trần Đại Nghĩa 2023.txt', 'id': '1'}, {'source': 'Hệ thống doanh nghiệp của Đại học.txt', 'id': '3'}, {'source': 'Trường Công nghệ Thông tin và Truyền thông.txt', 'id': '30'}, {'source': 'Quy định chuẩn ngoại ngữ đầu ra đối với các chương trình đặc biệt và chất lượng cao.txt', 'id': '4'}, {'source': 'Trường Công nghệ Thông tin và Truyền thông.txt', 'id': '11'}, {'source': 'Trung tâm An toàn – An ninh thông tin (BKCS).txt', 'id': '4'}, {'source': 'Quy định Học bổng Trần Đại Nghĩa 2023.txt', 'id': '0'}, {'source': 'Trung tâm Nghiên cứu Quốc tế về Trí tuệ nhân tạo.txt', 'id': '9'}, {'source': 'Mô hình đào tạo Trường Công nghệ Thông tin và Truyền thông.txt', 'id': '6'}, {'source': 'Trường Công nghệ Thông tin và Truyền thông.txt', 'id': '38'}, {'source': 'Trường Công nghệ Thông tin và Truyền thông.txt', 'id': '28'}, {'source': 'Quy chế đào tạo 2023.txt', 'id': '117'}]\n"
     ]
    },
    {
     "name": "stderr",
     "output_type": "stream",
     "text": [
      "Processing:  Mục tiêu về năng lực sáng tạo...:  70%|███████   | 7/10 [00:01<00:00,  4.85it/s, Hit@20=1.00]"
     ]
    },
    {
     "name": "stdout",
     "output_type": "stream",
     "text": [
      "correct source: {'source': 'Chiến lược phát triển đại học Bách khoa Hà Nội.txt', 'id': '2'}\n",
      "search_results: [{'source': {'source': 'Trung tâm Công nghệ và Giải pháp Chuyển đổi số trong Giáo dục (EdTech).txt', 'id': '2'}, 'level': 0}, {'source': {'source': 'Chiến lược phát triển đại học Bách khoa Hà Nội.txt', 'id': '2'}, 'level': 0}, {'source': {'source': 'Chiến lược phát triển đại học Bách khoa Hà Nội.txt', 'id': '3'}, 'level': 0}, {'source': {'source': 'Chiến lược phát triển đại học Bách khoa Hà Nội.txt', 'id': '1'}, 'level': 0}, {'source': {'source': 'Hướng dẫn triển khai các vấn đề liên quan đến CLB Sinh viên.txt', 'id': '0'}, 'level': 0}, {'source': {'source': 'Quy chế đào tạo 2023.txt', 'id': '5'}, 'level': 0}, {'source': {'source': 'Chương trình đào tạo kỹ sư chuyên sâu đặc thù của Đại học Bách khoa Hà Nội.txt', 'id': '1'}, 'level': 0}, {'source': {'source': 'Quy định chuẩn ngoại ngữ đầu ra đối với các chương trình đặc biệt và chất lượng cao.txt', 'id': '0'}, 'level': 0}, {'source': {'source': 'Trung tâm Nghiên cứu Quốc tế về Trí tuệ nhân tạo.txt', 'id': '2'}, 'level': 0}, {'source': {'source': 'Hệ thống doanh nghiệp của Đại học.txt', 'id': '1'}, 'level': 0}, {'source': {'source': 'Trường Công nghệ Thông tin và Truyền thông.txt', 'id': '40'}, 'level': 0}, {'source': {'source': 'QĐ ban hành Quy định học bổng trao đổi.txt', 'id': '5'}, 'level': 0}, {'source': {'source': 'Chương trình đào tạo kỹ sư chuyên sâu đặc thù của Đại học Bách khoa Hà Nội.txt', 'id': '4'}, 'level': 0}, {'source': {'source': 'Chiến lược phát triển đại học Bách khoa Hà Nội.txt', 'id': '6'}, 'level': 0}, {'source': {'source': 'Trung tâm Đổi mới sáng tạo (Innovation).txt', 'id': '1'}, 'level': 0}, {'source': {'source': 'Chiến lược phát triển đại học Bách khoa Hà Nội.txt', 'id': '5'}, 'level': 0}, {'source': {'source': 'Tổng quan Đại học Bách khoa Hà Nội.txt', 'id': '8'}, 'level': 0}, {'source': {'source': 'Hệ Đại học Trường Công nghệ Thông tin và Truyền thông.txt', 'id': '5'}, 'level': 0}, {'source': {'source': 'quy định ngoại ngữ từ k68.txt', 'id': '2'}, 'level': 0}, {'source': {'source': 'QĐ ban hành Quy định học bổng trao đổi.txt', 'id': '6'}, 'level': 0}]\n",
      "sources: [{'source': 'Trung tâm Công nghệ và Giải pháp Chuyển đổi số trong Giáo dục (EdTech).txt', 'id': '2'}, {'source': 'Chiến lược phát triển đại học Bách khoa Hà Nội.txt', 'id': '2'}, {'source': 'Chiến lược phát triển đại học Bách khoa Hà Nội.txt', 'id': '3'}, {'source': 'Chiến lược phát triển đại học Bách khoa Hà Nội.txt', 'id': '1'}, {'source': 'Hướng dẫn triển khai các vấn đề liên quan đến CLB Sinh viên.txt', 'id': '0'}, {'source': 'Quy chế đào tạo 2023.txt', 'id': '5'}, {'source': 'Chương trình đào tạo kỹ sư chuyên sâu đặc thù của Đại học Bách khoa Hà Nội.txt', 'id': '1'}, {'source': 'Quy định chuẩn ngoại ngữ đầu ra đối với các chương trình đặc biệt và chất lượng cao.txt', 'id': '0'}, {'source': 'Trung tâm Nghiên cứu Quốc tế về Trí tuệ nhân tạo.txt', 'id': '2'}, {'source': 'Hệ thống doanh nghiệp của Đại học.txt', 'id': '1'}, {'source': 'Trường Công nghệ Thông tin và Truyền thông.txt', 'id': '40'}, {'source': 'QĐ ban hành Quy định học bổng trao đổi.txt', 'id': '5'}, {'source': 'Chương trình đào tạo kỹ sư chuyên sâu đặc thù của Đại học Bách khoa Hà Nội.txt', 'id': '4'}, {'source': 'Chiến lược phát triển đại học Bách khoa Hà Nội.txt', 'id': '6'}, {'source': 'Trung tâm Đổi mới sáng tạo (Innovation).txt', 'id': '1'}, {'source': 'Chiến lược phát triển đại học Bách khoa Hà Nội.txt', 'id': '5'}, {'source': 'Tổng quan Đại học Bách khoa Hà Nội.txt', 'id': '8'}, {'source': 'Hệ Đại học Trường Công nghệ Thông tin và Truyền thông.txt', 'id': '5'}, {'source': 'quy định ngoại ngữ từ k68.txt', 'id': '2'}, {'source': 'QĐ ban hành Quy định học bổng trao đổi.txt', 'id': '6'}]\n",
      "correct source: {'source': 'Chiến lược phát triển đại học Bách khoa Hà Nội.txt', 'id': '2'}\n",
      "search_results: [{'source': {'source': 'Chiến lược phát triển đại học Bách khoa Hà Nội.txt', 'id': '3'}, 'level': 0}, {'source': {'source': 'Quản lý câu lạc bộ sinh viên 2023.txt', 'id': '5'}, 'level': 0}, {'source': {'source': 'Thông điệp của giám đốc đại học.txt', 'id': '4'}, 'level': 0}, {'source': {'source': 'Chiến lược phát triển đại học Bách khoa Hà Nội.txt', 'id': '2'}, 'level': 0}, {'source': {'source': 'Mô hình và chương trình đào tạo hệ Đại học chính quy.txt', 'id': '5'}, 'level': 0}, {'source': {'source': 'Trung tâm Đổi mới sáng tạo (Innovation).txt', 'id': '1'}, 'level': 0}, {'source': {'source': 'Trung tâm Nghiên cứu Quốc tế về Trí tuệ nhân tạo.txt', 'id': '2'}, 'level': 0}, {'source': {'source': 'Trung tâm Công nghệ và Giải pháp Chuyển đổi số trong Giáo dục (EdTech).txt', 'id': '2'}, 'level': 0}, {'source': {'source': 'Trung tâm Nghiên cứu Quốc tế về Trí tuệ nhân tạo.txt', 'id': '1'}, 'level': 0}, {'source': {'source': 'Hệ thống doanh nghiệp của Đại học.txt', 'id': '5'}, 'level': 0}, {'source': {'source': 'Chiến lược phát triển đại học Bách khoa Hà Nội.txt', 'id': '4'}, 'level': 0}, {'source': {'source': 'Chương trình đào tạo kỹ sư chuyên sâu đặc thù của Đại học Bách khoa Hà Nội.txt', 'id': '7'}, 'level': 0}, {'source': {'source': 'Chiến lược phát triển đại học Bách khoa Hà Nội.txt', 'id': '5'}, 'level': 0}, {'source': {'source': 'Sứ mạng, tầm nhìn và giá trị cốt lõi.txt', 'id': '2'}, 'level': 0}, {'source': {'source': 'Mô hình đào tạo Trường Công nghệ Thông tin và Truyền thông.txt', 'id': '0'}, 'level': 0}, {'source': {'source': 'Mô hình và chương trình đào tạo hệ Đại học chính quy.txt', 'id': '0'}, 'level': 0}, {'source': {'source': 'Hướng dẫn triển khai các vấn đề liên quan đến CLB Sinh viên.txt', 'id': '0'}, 'level': 0}, {'source': {'source': 'Chương trình đào tạo kỹ sư chuyên sâu đặc thù của Đại học Bách khoa Hà Nội.txt', 'id': '6'}, 'level': 0}, {'source': {'source': 'Trường Công nghệ Thông tin và Truyền thông.txt', 'id': '39'}, 'level': 0}, {'source': {'source': 'Chiến lược phát triển đại học Bách khoa Hà Nội.txt', 'id': '0'}, 'level': 0}]\n",
      "sources: [{'source': 'Chiến lược phát triển đại học Bách khoa Hà Nội.txt', 'id': '3'}, {'source': 'Quản lý câu lạc bộ sinh viên 2023.txt', 'id': '5'}, {'source': 'Thông điệp của giám đốc đại học.txt', 'id': '4'}, {'source': 'Chiến lược phát triển đại học Bách khoa Hà Nội.txt', 'id': '2'}, {'source': 'Mô hình và chương trình đào tạo hệ Đại học chính quy.txt', 'id': '5'}, {'source': 'Trung tâm Đổi mới sáng tạo (Innovation).txt', 'id': '1'}, {'source': 'Trung tâm Nghiên cứu Quốc tế về Trí tuệ nhân tạo.txt', 'id': '2'}, {'source': 'Trung tâm Công nghệ và Giải pháp Chuyển đổi số trong Giáo dục (EdTech).txt', 'id': '2'}, {'source': 'Trung tâm Nghiên cứu Quốc tế về Trí tuệ nhân tạo.txt', 'id': '1'}, {'source': 'Hệ thống doanh nghiệp của Đại học.txt', 'id': '5'}, {'source': 'Chiến lược phát triển đại học Bách khoa Hà Nội.txt', 'id': '4'}, {'source': 'Chương trình đào tạo kỹ sư chuyên sâu đặc thù của Đại học Bách khoa Hà Nội.txt', 'id': '7'}, {'source': 'Chiến lược phát triển đại học Bách khoa Hà Nội.txt', 'id': '5'}, {'source': 'Sứ mạng, tầm nhìn và giá trị cốt lõi.txt', 'id': '2'}, {'source': 'Mô hình đào tạo Trường Công nghệ Thông tin và Truyền thông.txt', 'id': '0'}, {'source': 'Mô hình và chương trình đào tạo hệ Đại học chính quy.txt', 'id': '0'}, {'source': 'Hướng dẫn triển khai các vấn đề liên quan đến CLB Sinh viên.txt', 'id': '0'}, {'source': 'Chương trình đào tạo kỹ sư chuyên sâu đặc thù của Đại học Bách khoa Hà Nội.txt', 'id': '6'}, {'source': 'Trường Công nghệ Thông tin và Truyền thông.txt', 'id': '39'}, {'source': 'Chiến lược phát triển đại học Bách khoa Hà Nội.txt', 'id': '0'}]\n"
     ]
    },
    {
     "name": "stderr",
     "output_type": "stream",
     "text": [
      "Processing: Mô hình quản trị đại học được ...:  90%|█████████ | 9/10 [00:02<00:00,  4.95it/s, Hit@20=1.00]"
     ]
    },
    {
     "name": "stdout",
     "output_type": "stream",
     "text": [
      "correct source: {'source': 'Chiến lược phát triển đại học Bách khoa Hà Nội.txt', 'id': '2'}\n",
      "search_results: [{'source': {'source': 'Chiến lược phát triển đại học Bách khoa Hà Nội.txt', 'id': '2'}, 'level': 0}, {'source': {'source': 'Chiến lược phát triển đại học Bách khoa Hà Nội.txt', 'id': '1'}, 'level': 0}, {'source': {'source': 'Chương trình đào tạo kỹ sư chuyên sâu đặc thù của Đại học Bách khoa Hà Nội.txt', 'id': '13'}, 'level': 0}, {'source': {'source': 'Chiến lược phát triển đại học Bách khoa Hà Nội.txt', 'id': '3'}, 'level': 0}, {'source': {'source': 'Quy chế đào tạo 2023.txt', 'id': '56'}, 'level': 0}, {'source': {'source': 'Trường Công nghệ Thông tin và Truyền thông.txt', 'id': '3'}, 'level': 0}, {'source': {'source': 'Hoạt động sinh viên nghiên cứu khoa học Trường Công nghệ Thông tin và Truyền thông.txt', 'id': '3'}, 'level': 0}, {'source': {'source': 'Trường Công nghệ Thông tin và Truyền thông.txt', 'id': '39'}, 'level': 0}, {'source': {'source': 'Quy chế đào tạo 2023.txt', 'id': '80'}, 'level': 0}, {'source': {'source': 'Thông điệp của giám đốc đại học.txt', 'id': '3'}, 'level': 0}, {'source': {'source': 'Mô hình đào tạo Trường Công nghệ Thông tin và Truyền thông.txt', 'id': '13'}, 'level': 0}, {'source': {'source': 'Trung tâm Nghiên cứu Quốc tế về Trí tuệ nhân tạo.txt', 'id': '1'}, 'level': 0}, {'source': {'source': 'Hướng dẫn hoc chuyen tiep ky su 180 TC_Final.txt', 'id': '2'}, 'level': 0}, {'source': {'source': 'Đào tạo Đại học theo hình thức vừa làm vừa học.txt', 'id': '15'}, 'level': 0}, {'source': {'source': 'Đào tạo Đại học theo hình thức vừa làm vừa học.txt', 'id': '16'}, 'level': 0}, {'source': {'source': 'Hướng dẫn hoc chuyen tiep ky su 180 TC_Final.txt', 'id': '3'}, 'level': 0}, {'source': {'source': 'Quy chế đào tạo 2023.txt', 'id': '100'}, 'level': 0}, {'source': {'source': 'Hội đồng Đại học Bách khoa Hà Nội.txt', 'id': '4'}, 'level': 0}, {'source': {'source': 'Chương trình đào tạo kỹ sư chuyên sâu đặc thù của Đại học Bách khoa Hà Nội.txt', 'id': '14'}, 'level': 0}, {'source': {'source': 'Quy chế đào tạo 2023.txt', 'id': '101'}, 'level': 0}]\n",
      "sources: [{'source': 'Chiến lược phát triển đại học Bách khoa Hà Nội.txt', 'id': '2'}, {'source': 'Chiến lược phát triển đại học Bách khoa Hà Nội.txt', 'id': '1'}, {'source': 'Chương trình đào tạo kỹ sư chuyên sâu đặc thù của Đại học Bách khoa Hà Nội.txt', 'id': '13'}, {'source': 'Chiến lược phát triển đại học Bách khoa Hà Nội.txt', 'id': '3'}, {'source': 'Quy chế đào tạo 2023.txt', 'id': '56'}, {'source': 'Trường Công nghệ Thông tin và Truyền thông.txt', 'id': '3'}, {'source': 'Hoạt động sinh viên nghiên cứu khoa học Trường Công nghệ Thông tin và Truyền thông.txt', 'id': '3'}, {'source': 'Trường Công nghệ Thông tin và Truyền thông.txt', 'id': '39'}, {'source': 'Quy chế đào tạo 2023.txt', 'id': '80'}, {'source': 'Thông điệp của giám đốc đại học.txt', 'id': '3'}, {'source': 'Mô hình đào tạo Trường Công nghệ Thông tin và Truyền thông.txt', 'id': '13'}, {'source': 'Trung tâm Nghiên cứu Quốc tế về Trí tuệ nhân tạo.txt', 'id': '1'}, {'source': 'Hướng dẫn hoc chuyen tiep ky su 180 TC_Final.txt', 'id': '2'}, {'source': 'Đào tạo Đại học theo hình thức vừa làm vừa học.txt', 'id': '15'}, {'source': 'Đào tạo Đại học theo hình thức vừa làm vừa học.txt', 'id': '16'}, {'source': 'Hướng dẫn hoc chuyen tiep ky su 180 TC_Final.txt', 'id': '3'}, {'source': 'Quy chế đào tạo 2023.txt', 'id': '100'}, {'source': 'Hội đồng Đại học Bách khoa Hà Nội.txt', 'id': '4'}, {'source': 'Chương trình đào tạo kỹ sư chuyên sâu đặc thù của Đại học Bách khoa Hà Nội.txt', 'id': '14'}, {'source': 'Quy chế đào tạo 2023.txt', 'id': '101'}]\n",
      "correct source: {'source': 'Chiến lược phát triển đại học Bách khoa Hà Nội.txt', 'id': '3'}\n",
      "search_results: [{'source': {'source': 'Chiến lược phát triển đại học Bách khoa Hà Nội.txt', 'id': '3'}, 'level': 0}, {'source': {'source': 'Mô hình đào tạo Trường Công nghệ Thông tin và Truyền thông.txt', 'id': '0'}, 'level': 0}, {'source': {'source': 'Mô hình và chương trình đào tạo hệ Đại học chính quy.txt', 'id': '0'}, 'level': 0}, {'source': {'source': 'Mô hình đào tạo Trường Công nghệ Thông tin và Truyền thông.txt', 'id': '5'}, 'level': 0}, {'source': {'source': 'Chương trình đào tạo kỹ sư chuyên sâu đặc thù của Đại học Bách khoa Hà Nội.txt', 'id': '12'}, 'level': 0}, {'source': {'source': 'Trường Công nghệ Thông tin và Truyền thông.txt', 'id': '40'}, 'level': 0}, {'source': {'source': 'Chương trình đào tạo kỹ sư chuyên sâu đặc thù của Đại học Bách khoa Hà Nội.txt', 'id': '13'}, 'level': 0}, {'source': {'source': 'Quy chế đào tạo 2023.txt', 'id': '115'}, 'level': 0}, {'source': {'source': 'Chiến lược phát triển đại học Bách khoa Hà Nội.txt', 'id': '4'}, 'level': 0}, {'source': {'source': 'Thông điệp của giám đốc đại học.txt', 'id': '4'}, 'level': 0}, {'source': {'source': 'Trường Công nghệ Thông tin và Truyền thông.txt', 'id': '39'}, 'level': 0}, {'source': {'source': 'Chiến lược phát triển đại học Bách khoa Hà Nội.txt', 'id': '0'}, 'level': 0}, {'source': {'source': 'Chiến lược phát triển đại học Bách khoa Hà Nội.txt', 'id': '1'}, 'level': 0}, {'source': {'source': 'Đào tạo Đại học theo hình thức vừa làm vừa học.txt', 'id': '3'}, 'level': 0}, {'source': {'source': 'Chương trình đào tạo kỹ sư chuyên sâu đặc thù của Đại học Bách khoa Hà Nội.txt', 'id': '3'}, 'level': 0}, {'source': {'source': 'Mô hình đào tạo Trường Công nghệ Thông tin và Truyền thông.txt', 'id': '10'}, 'level': 0}, {'source': {'source': 'Giới thiệu Khoa Khoa học máy tính.txt', 'id': '18'}, 'level': 0}, {'source': {'source': 'Giới thiệu Khoa Khoa học máy tính.txt', 'id': '11'}, 'level': 0}, {'source': {'source': 'Trung tâm Nghiên cứu Quốc tế về Trí tuệ nhân tạo.txt', 'id': '10'}, 'level': 0}, {'source': {'source': 'Hệ thống doanh nghiệp của Đại học.txt', 'id': '3'}, 'level': 0}]\n",
      "sources: [{'source': 'Chiến lược phát triển đại học Bách khoa Hà Nội.txt', 'id': '3'}, {'source': 'Mô hình đào tạo Trường Công nghệ Thông tin và Truyền thông.txt', 'id': '0'}, {'source': 'Mô hình và chương trình đào tạo hệ Đại học chính quy.txt', 'id': '0'}, {'source': 'Mô hình đào tạo Trường Công nghệ Thông tin và Truyền thông.txt', 'id': '5'}, {'source': 'Chương trình đào tạo kỹ sư chuyên sâu đặc thù của Đại học Bách khoa Hà Nội.txt', 'id': '12'}, {'source': 'Trường Công nghệ Thông tin và Truyền thông.txt', 'id': '40'}, {'source': 'Chương trình đào tạo kỹ sư chuyên sâu đặc thù của Đại học Bách khoa Hà Nội.txt', 'id': '13'}, {'source': 'Quy chế đào tạo 2023.txt', 'id': '115'}, {'source': 'Chiến lược phát triển đại học Bách khoa Hà Nội.txt', 'id': '4'}, {'source': 'Thông điệp của giám đốc đại học.txt', 'id': '4'}, {'source': 'Trường Công nghệ Thông tin và Truyền thông.txt', 'id': '39'}, {'source': 'Chiến lược phát triển đại học Bách khoa Hà Nội.txt', 'id': '0'}, {'source': 'Chiến lược phát triển đại học Bách khoa Hà Nội.txt', 'id': '1'}, {'source': 'Đào tạo Đại học theo hình thức vừa làm vừa học.txt', 'id': '3'}, {'source': 'Chương trình đào tạo kỹ sư chuyên sâu đặc thù của Đại học Bách khoa Hà Nội.txt', 'id': '3'}, {'source': 'Mô hình đào tạo Trường Công nghệ Thông tin và Truyền thông.txt', 'id': '10'}, {'source': 'Giới thiệu Khoa Khoa học máy tính.txt', 'id': '18'}, {'source': 'Giới thiệu Khoa Khoa học máy tính.txt', 'id': '11'}, {'source': 'Trung tâm Nghiên cứu Quốc tế về Trí tuệ nhân tạo.txt', 'id': '10'}, {'source': 'Hệ thống doanh nghiệp của Đại học.txt', 'id': '3'}]\n"
     ]
    },
    {
     "name": "stderr",
     "output_type": "stream",
     "text": [
      "Processing: Mô hình quản trị đại học được ...: 100%|██████████| 10/10 [00:02<00:00,  4.44it/s, Hit@20=1.00]"
     ]
    },
    {
     "name": "stdout",
     "output_type": "stream",
     "text": [
      "\n",
      "Kết quả đánh giá:\n",
      "Hit@1: 0.6000\n",
      "MRR@1: 0.6000\n",
      "Hit@5: 1.0000\n",
      "MRR@5: 0.7500\n",
      "Hit@10: 1.0000\n",
      "MRR@10: 0.7500\n",
      "Hit@20: 1.0000\n",
      "MRR@20: 0.7500\n"
     ]
    },
    {
     "name": "stderr",
     "output_type": "stream",
     "text": [
      "\n"
     ]
    }
   ],
   "source": [
    "import json\n",
    "import pandas as pd\n",
    "import time\n",
    "from tqdm import tqdm\n",
    "from elasticsearch import Elasticsearch\n",
    "\n",
    "def search(query, top_k=1):\n",
    "    # Add delay to avoid API overload (adjust as needed)\n",
    "    time.sleep(0.1)  # 100ms delay between requests\n",
    "    result = es.search(\n",
    "\t\tindex=index,\n",
    "\t\tbody={\n",
    "\t\t\t\"query\": {\n",
    "\t\t\t\t\t\"match\": {\n",
    "\t\t\t\t\t\t\t\"text\": query\n",
    "\t\t\t\t\t}\n",
    "\t\t\t},\n",
    "      \"size\": top_k\n",
    "\t\t},\n",
    "\t)\n",
    "        \n",
    "    \n",
    "    res = [hit['_source'][\"metadata\"] for hit in result['hits']['hits']]\n",
    "    return res\n",
    "\n",
    "def evaluate(excel_path, top_k_values=[1, 5, 10, 20]):\n",
    "    chunk = pd.read_excel(excel_path).head(10)\n",
    "    total_questions = len(chunk)\n",
    "    \n",
    "    # Khởi tạo bộ đếm điểm\n",
    "    hits = {k: 0 for k in top_k_values}\n",
    "    mrr = {k: 0 for k in top_k_values}\n",
    "    \n",
    "    # Add progress bar\n",
    "    progress_bar = tqdm(chunk.iterrows(), total=total_questions, desc=\"Evaluating questions\")\n",
    "    \n",
    "    for _, row in progress_bar:\n",
    "        question = row['question']\n",
    "        metadata = row['metadata']\n",
    "        if isinstance(metadata, str):\n",
    "            metadata = metadata.replace(\"'\", \"\\\"\")\n",
    "            try:\n",
    "                metadata = json.loads(metadata)\n",
    "            except json.JSONDecodeError:\n",
    "                continue\n",
    "        correct_source = metadata\n",
    "        \n",
    "        # Update progress bar description with current question\n",
    "        progress_bar.set_description(f\"Processing: {question[:30]}...\")\n",
    "        \n",
    "        # Thực hiện tìm kiếm\n",
    "        search_results = search(question, top_k=max(top_k_values))\n",
    "        \n",
    "        # Kiểm tra kết quả và tính điểm\n",
    "        sources = [result.get(\"source\", \"\") for result in search_results]\n",
    "        print(\"correct source:\",correct_source)\n",
    "        print(\"search_results:\",search_results)\n",
    "        print(\"sources:\",sources)\n",
    "        for k in top_k_values:\n",
    "            if correct_source in sources[:k]:\n",
    "                hits[k] += 1\n",
    "                rank = sources.index(correct_source) + 1\n",
    "                mrr[k] += 1 / rank if rank <= k else 0\n",
    "        \n",
    "        # Update progress bar postfix with current stats\n",
    "        progress_bar.set_postfix({f'Hit@{max(top_k_values)}': f'{(hits[max(top_k_values)] / (progress_bar.n + 1)):.2f}'})\n",
    "    \n",
    "    # Close progress bar\n",
    "    progress_bar.close()\n",
    "    \n",
    "    # Tính tỷ lệ điểm\n",
    "    hit_ratios = {k: hits[k] / total_questions for k in top_k_values}\n",
    "    mrr_scores = {k: mrr[k] / total_questions for k in top_k_values}\n",
    "    \n",
    "    # Ghi kết quả vào Excel với timestamp\n",
    "    timestamp = time.strftime(\"%Y%m%d_%H%M%S\")\n",
    "    output_file = f\"evaluation_results_{timestamp}.xlsx\"\n",
    "    result_df = pd.DataFrame({\n",
    "        'Hit@k': [f\"Hit@{k}\" for k in top_k_values],\n",
    "        'Hit Ratio': [hit_ratios[k] for k in top_k_values],\n",
    "        'MRR': [mrr_scores[k] for k in top_k_values]\n",
    "    })\n",
    "    \n",
    "    result_df.to_excel(output_file, index=False)\n",
    "    return hit_ratios, mrr_scores\n",
    "\n",
    "# Chạy đánh giá\n",
    "excel_path = excel  # Đường dẫn tới file Excel\n",
    "print(\"Bắt đầu đánh giá...\")\n",
    "hit_ratios, mrr_scores = evaluate(excel_path)\n",
    "\n",
    "# In kết quả\n",
    "print(\"\\nKết quả đánh giá:\")\n",
    "for k in sorted(hit_ratios.keys()):\n",
    "    print(f\"Hit@{k}: {hit_ratios[k]:.4f}\")\n",
    "    print(f\"MRR@{k}: {mrr_scores[k]:.4f}\")"
   ]
  }
 ],
 "metadata": {
  "kernelspec": {
   "display_name": "rag",
   "language": "python",
   "name": "python3"
  },
  "language_info": {
   "codemirror_mode": {
    "name": "ipython",
    "version": 3
   },
   "file_extension": ".py",
   "mimetype": "text/x-python",
   "name": "python",
   "nbconvert_exporter": "python",
   "pygments_lexer": "ipython3",
   "version": "3.12.5"
  }
 },
 "nbformat": 4,
 "nbformat_minor": 2
}
